{
  "nbformat": 4,
  "nbformat_minor": 0,
  "metadata": {
    "colab": {
      "provenance": [],
      "gpuType": "T4",
      "authorship_tag": "ABX9TyNH7BcYKgYjR8iYTqOo1Wxk",
      "include_colab_link": true
    },
    "kernelspec": {
      "name": "python3",
      "display_name": "Python 3"
    },
    "language_info": {
      "name": "python"
    },
    "accelerator": "GPU",
    "widgets": {
      "application/vnd.jupyter.widget-state+json": {
        "6159a127a0d94db9ad11797b0b5955b8": {
          "model_module": "@jupyter-widgets/controls",
          "model_name": "HBoxModel",
          "model_module_version": "1.5.0",
          "state": {
            "_dom_classes": [],
            "_model_module": "@jupyter-widgets/controls",
            "_model_module_version": "1.5.0",
            "_model_name": "HBoxModel",
            "_view_count": null,
            "_view_module": "@jupyter-widgets/controls",
            "_view_module_version": "1.5.0",
            "_view_name": "HBoxView",
            "box_style": "",
            "children": [
              "IPY_MODEL_b56d1e2a0e8b4689ad3fea151ec662dc",
              "IPY_MODEL_20e3ec221de74197afbdd061a23dd4d7",
              "IPY_MODEL_c97e7fcbd2b44f76aa9b7822d96997f5"
            ],
            "layout": "IPY_MODEL_8d39e1c0c26949c5aee24df35c360575"
          }
        },
        "b56d1e2a0e8b4689ad3fea151ec662dc": {
          "model_module": "@jupyter-widgets/controls",
          "model_name": "HTMLModel",
          "model_module_version": "1.5.0",
          "state": {
            "_dom_classes": [],
            "_model_module": "@jupyter-widgets/controls",
            "_model_module_version": "1.5.0",
            "_model_name": "HTMLModel",
            "_view_count": null,
            "_view_module": "@jupyter-widgets/controls",
            "_view_module_version": "1.5.0",
            "_view_name": "HTMLView",
            "description": "",
            "description_tooltip": null,
            "layout": "IPY_MODEL_66cc02f641264ff5811fc72718abdf41",
            "placeholder": "​",
            "style": "IPY_MODEL_fbab4db8caf4453da456c0617c0e5b0e",
            "value": "100%"
          }
        },
        "20e3ec221de74197afbdd061a23dd4d7": {
          "model_module": "@jupyter-widgets/controls",
          "model_name": "FloatProgressModel",
          "model_module_version": "1.5.0",
          "state": {
            "_dom_classes": [],
            "_model_module": "@jupyter-widgets/controls",
            "_model_module_version": "1.5.0",
            "_model_name": "FloatProgressModel",
            "_view_count": null,
            "_view_module": "@jupyter-widgets/controls",
            "_view_module_version": "1.5.0",
            "_view_name": "ProgressView",
            "bar_style": "success",
            "description": "",
            "description_tooltip": null,
            "layout": "IPY_MODEL_f99e28ed5609403c90823f923f83b3db",
            "max": 15,
            "min": 0,
            "orientation": "horizontal",
            "style": "IPY_MODEL_4db779c2616f4e50bc8c45c217adbe0c",
            "value": 15
          }
        },
        "c97e7fcbd2b44f76aa9b7822d96997f5": {
          "model_module": "@jupyter-widgets/controls",
          "model_name": "HTMLModel",
          "model_module_version": "1.5.0",
          "state": {
            "_dom_classes": [],
            "_model_module": "@jupyter-widgets/controls",
            "_model_module_version": "1.5.0",
            "_model_name": "HTMLModel",
            "_view_count": null,
            "_view_module": "@jupyter-widgets/controls",
            "_view_module_version": "1.5.0",
            "_view_name": "HTMLView",
            "description": "",
            "description_tooltip": null,
            "layout": "IPY_MODEL_e2d5ec18adb4438c9e5100a926e253c4",
            "placeholder": "​",
            "style": "IPY_MODEL_df9637114ce84b8e8ca8331bc4d40ed5",
            "value": " 15/15 [04:38&lt;00:00, 19.88s/it]"
          }
        },
        "8d39e1c0c26949c5aee24df35c360575": {
          "model_module": "@jupyter-widgets/base",
          "model_name": "LayoutModel",
          "model_module_version": "1.2.0",
          "state": {
            "_model_module": "@jupyter-widgets/base",
            "_model_module_version": "1.2.0",
            "_model_name": "LayoutModel",
            "_view_count": null,
            "_view_module": "@jupyter-widgets/base",
            "_view_module_version": "1.2.0",
            "_view_name": "LayoutView",
            "align_content": null,
            "align_items": null,
            "align_self": null,
            "border": null,
            "bottom": null,
            "display": null,
            "flex": null,
            "flex_flow": null,
            "grid_area": null,
            "grid_auto_columns": null,
            "grid_auto_flow": null,
            "grid_auto_rows": null,
            "grid_column": null,
            "grid_gap": null,
            "grid_row": null,
            "grid_template_areas": null,
            "grid_template_columns": null,
            "grid_template_rows": null,
            "height": null,
            "justify_content": null,
            "justify_items": null,
            "left": null,
            "margin": null,
            "max_height": null,
            "max_width": null,
            "min_height": null,
            "min_width": null,
            "object_fit": null,
            "object_position": null,
            "order": null,
            "overflow": null,
            "overflow_x": null,
            "overflow_y": null,
            "padding": null,
            "right": null,
            "top": null,
            "visibility": null,
            "width": null
          }
        },
        "66cc02f641264ff5811fc72718abdf41": {
          "model_module": "@jupyter-widgets/base",
          "model_name": "LayoutModel",
          "model_module_version": "1.2.0",
          "state": {
            "_model_module": "@jupyter-widgets/base",
            "_model_module_version": "1.2.0",
            "_model_name": "LayoutModel",
            "_view_count": null,
            "_view_module": "@jupyter-widgets/base",
            "_view_module_version": "1.2.0",
            "_view_name": "LayoutView",
            "align_content": null,
            "align_items": null,
            "align_self": null,
            "border": null,
            "bottom": null,
            "display": null,
            "flex": null,
            "flex_flow": null,
            "grid_area": null,
            "grid_auto_columns": null,
            "grid_auto_flow": null,
            "grid_auto_rows": null,
            "grid_column": null,
            "grid_gap": null,
            "grid_row": null,
            "grid_template_areas": null,
            "grid_template_columns": null,
            "grid_template_rows": null,
            "height": null,
            "justify_content": null,
            "justify_items": null,
            "left": null,
            "margin": null,
            "max_height": null,
            "max_width": null,
            "min_height": null,
            "min_width": null,
            "object_fit": null,
            "object_position": null,
            "order": null,
            "overflow": null,
            "overflow_x": null,
            "overflow_y": null,
            "padding": null,
            "right": null,
            "top": null,
            "visibility": null,
            "width": null
          }
        },
        "fbab4db8caf4453da456c0617c0e5b0e": {
          "model_module": "@jupyter-widgets/controls",
          "model_name": "DescriptionStyleModel",
          "model_module_version": "1.5.0",
          "state": {
            "_model_module": "@jupyter-widgets/controls",
            "_model_module_version": "1.5.0",
            "_model_name": "DescriptionStyleModel",
            "_view_count": null,
            "_view_module": "@jupyter-widgets/base",
            "_view_module_version": "1.2.0",
            "_view_name": "StyleView",
            "description_width": ""
          }
        },
        "f99e28ed5609403c90823f923f83b3db": {
          "model_module": "@jupyter-widgets/base",
          "model_name": "LayoutModel",
          "model_module_version": "1.2.0",
          "state": {
            "_model_module": "@jupyter-widgets/base",
            "_model_module_version": "1.2.0",
            "_model_name": "LayoutModel",
            "_view_count": null,
            "_view_module": "@jupyter-widgets/base",
            "_view_module_version": "1.2.0",
            "_view_name": "LayoutView",
            "align_content": null,
            "align_items": null,
            "align_self": null,
            "border": null,
            "bottom": null,
            "display": null,
            "flex": null,
            "flex_flow": null,
            "grid_area": null,
            "grid_auto_columns": null,
            "grid_auto_flow": null,
            "grid_auto_rows": null,
            "grid_column": null,
            "grid_gap": null,
            "grid_row": null,
            "grid_template_areas": null,
            "grid_template_columns": null,
            "grid_template_rows": null,
            "height": null,
            "justify_content": null,
            "justify_items": null,
            "left": null,
            "margin": null,
            "max_height": null,
            "max_width": null,
            "min_height": null,
            "min_width": null,
            "object_fit": null,
            "object_position": null,
            "order": null,
            "overflow": null,
            "overflow_x": null,
            "overflow_y": null,
            "padding": null,
            "right": null,
            "top": null,
            "visibility": null,
            "width": null
          }
        },
        "4db779c2616f4e50bc8c45c217adbe0c": {
          "model_module": "@jupyter-widgets/controls",
          "model_name": "ProgressStyleModel",
          "model_module_version": "1.5.0",
          "state": {
            "_model_module": "@jupyter-widgets/controls",
            "_model_module_version": "1.5.0",
            "_model_name": "ProgressStyleModel",
            "_view_count": null,
            "_view_module": "@jupyter-widgets/base",
            "_view_module_version": "1.2.0",
            "_view_name": "StyleView",
            "bar_color": null,
            "description_width": ""
          }
        },
        "e2d5ec18adb4438c9e5100a926e253c4": {
          "model_module": "@jupyter-widgets/base",
          "model_name": "LayoutModel",
          "model_module_version": "1.2.0",
          "state": {
            "_model_module": "@jupyter-widgets/base",
            "_model_module_version": "1.2.0",
            "_model_name": "LayoutModel",
            "_view_count": null,
            "_view_module": "@jupyter-widgets/base",
            "_view_module_version": "1.2.0",
            "_view_name": "LayoutView",
            "align_content": null,
            "align_items": null,
            "align_self": null,
            "border": null,
            "bottom": null,
            "display": null,
            "flex": null,
            "flex_flow": null,
            "grid_area": null,
            "grid_auto_columns": null,
            "grid_auto_flow": null,
            "grid_auto_rows": null,
            "grid_column": null,
            "grid_gap": null,
            "grid_row": null,
            "grid_template_areas": null,
            "grid_template_columns": null,
            "grid_template_rows": null,
            "height": null,
            "justify_content": null,
            "justify_items": null,
            "left": null,
            "margin": null,
            "max_height": null,
            "max_width": null,
            "min_height": null,
            "min_width": null,
            "object_fit": null,
            "object_position": null,
            "order": null,
            "overflow": null,
            "overflow_x": null,
            "overflow_y": null,
            "padding": null,
            "right": null,
            "top": null,
            "visibility": null,
            "width": null
          }
        },
        "df9637114ce84b8e8ca8331bc4d40ed5": {
          "model_module": "@jupyter-widgets/controls",
          "model_name": "DescriptionStyleModel",
          "model_module_version": "1.5.0",
          "state": {
            "_model_module": "@jupyter-widgets/controls",
            "_model_module_version": "1.5.0",
            "_model_name": "DescriptionStyleModel",
            "_view_count": null,
            "_view_module": "@jupyter-widgets/base",
            "_view_module_version": "1.2.0",
            "_view_name": "StyleView",
            "description_width": ""
          }
        }
      }
    }
  },
  "cells": [
    {
      "cell_type": "markdown",
      "metadata": {
        "id": "view-in-github",
        "colab_type": "text"
      },
      "source": [
        "<a href=\"https://colab.research.google.com/github/stepan-zykov/DLS/blob/main/AutoEncoder/Conditional_VAE.ipynb\" target=\"_parent\"><img src=\"https://colab.research.google.com/assets/colab-badge.svg\" alt=\"Open In Colab\"/></a>"
      ]
    },
    {
      "cell_type": "code",
      "source": [
        "import os\n",
        "from torch import nn\n",
        "import numpy as np\n",
        "import torch\n",
        "import torch.nn.functional as F\n",
        "from torchvision import datasets, transforms\n",
        "from torchvision.transforms import ToTensor, Lambda, Compose\n",
        "from torch.utils.data import DataLoader\n",
        "from tqdm.notebook import tqdm\n",
        "from matplotlib import pyplot as plt\n",
        "import IPython.display as display"
      ],
      "metadata": {
        "id": "JQJkZUeV6MKm"
      },
      "execution_count": 132,
      "outputs": []
    },
    {
      "cell_type": "code",
      "source": [
        "from google.colab import drive\n",
        "drive.mount('/content/drive')"
      ],
      "metadata": {
        "colab": {
          "base_uri": "https://localhost:8080/"
        },
        "id": "uXfNytVH530x",
        "outputId": "c6821e24-dc49-44f5-9952-10045511fa0b"
      },
      "execution_count": 1,
      "outputs": [
        {
          "output_type": "stream",
          "name": "stdout",
          "text": [
            "Mounted at /content/drive\n"
          ]
        }
      ]
    },
    {
      "cell_type": "code",
      "source": [
        "os.chdir('/content/drive/MyDrive/DLS/HW/HW7_AutoEncoder/')"
      ],
      "metadata": {
        "id": "EPhZRneW6OLl"
      },
      "execution_count": 7,
      "outputs": []
    },
    {
      "cell_type": "markdown",
      "metadata": {
        "id": "yIYuKFwijN2U"
      },
      "source": [
        "## 2.3. Conditional VAE (6 баллов)\n"
      ]
    },
    {
      "cell_type": "markdown",
      "metadata": {
        "id": "c5l8Bu1RPjUx"
      },
      "source": [
        "Мы уже научились обучать обычный AE на датасете картинок и получать новые картинки, используя генерацию шума и декодер.\n",
        "Давайте теперь допустим, что мы обучили AE на датасете MNIST и теперь хотим генерировать новые картинки с числами с помощью декодера (как выше мы генерили рандомные лица).\n",
        "И вот нам понадобилось сгенерировать цифру 8, и мы подставляем разные варианты шума, но восьмерка никак не генерится:(\n",
        "\n",
        "Хотелось бы добавить к нашему AE функцию \"выдай мне рандомное число из вот этого вот класса\", где классов десять (цифры от 0 до 9 образуют десять классов).  Conditional AE — так называется вид автоэнкодера, который предоставляет такую возможность. Ну, название \"conditional\" уже говорит само за себя.\n",
        "\n",
        "И в этой части задания мы научимся такие обучать."
      ]
    },
    {
      "cell_type": "markdown",
      "metadata": {
        "id": "0j8zNIwKPY-6"
      },
      "source": [
        "### Архитектура\n",
        "\n",
        "На картинке ниже представлена архитектура простого Conditional VAE.\n",
        "\n",
        "По сути, единственное отличие от обычного -- это то, что мы вместе с картинкой в первом слое энкодера и декодера передаем еще информацию о классе картинки.\n",
        "\n",
        "То есть, в первый (входной) слой энкодера подается конкатенация картинки и информации о классе (например, вектора из девяти нулей и одной единицы). В первый слой декодера подается конкатенация латентного вектора и информации о классе."
      ]
    },
    {
      "cell_type": "markdown",
      "metadata": {
        "id": "Y6YloFEAPeM4"
      },
      "source": [
        "\n",
        "![alt text](https://sun9-63.userapi.com/impg/Mh1akf7mfpNoprrSWsPOouazSmTPMazYYF49Tw/djoHNw_9KVA.jpg?size=1175x642&quality=96&sign=e88baec5f9bb91c8443fba31dcf0a4df&type=album)\n",
        "\n",
        "![alt text](https://sun9-73.userapi.com/impg/UDuloLNKhzTBYAKewgxke5-YPsAKyGOqA-qCRg/MnyCavJidxM.jpg?size=1229x651&quality=96&sign=f2d21bfacc1c5755b76868dc4cfef39c&type=album)\n",
        "\n"
      ]
    },
    {
      "cell_type": "markdown",
      "metadata": {
        "id": "hxg2tDSfRbLF"
      },
      "source": [
        "На всякий случай: это VAE, то есть, latent у него все еще состоит из mu и sigma"
      ]
    },
    {
      "cell_type": "markdown",
      "metadata": {
        "id": "GpFbSXLaPrm1"
      },
      "source": [
        "Таким образом, при генерации новой рандомной картинки мы должны будем передать декодеру сконкатенированные латентный вектор и класс картинки."
      ]
    },
    {
      "cell_type": "markdown",
      "metadata": {
        "id": "cX0zxklMPwI2"
      },
      "source": [
        "P.S. Также можно передавать класс картинки не только в первый слой, но и в каждый слой сети. То есть на каждом слое конкатенировать выход из предыдущего слоя и информацию о классе."
      ]
    },
    {
      "cell_type": "markdown",
      "source": [
        "# Загрузка данных"
      ],
      "metadata": {
        "id": "vZYjiBd9QS-z"
      }
    },
    {
      "cell_type": "markdown",
      "source": [
        "При загрузке использрем трансформеры. Переводим картинку в тензор, убираем единичную размерность. Метки классов кодируем с помощью OHE."
      ],
      "metadata": {
        "id": "Law0QweTQS-z"
      }
    },
    {
      "cell_type": "code",
      "source": [
        "train_dataset = datasets.MNIST(root = './cva_mnist_data/',\n",
        "                               train = True,\n",
        "                               transform = Compose([ToTensor(),\n",
        "                                                    Lambda(lambda x: torch.squeeze(x))]),\n",
        "                               target_transform = Lambda(lambda x: F.one_hot(torch.tensor(x), 10)),\n",
        "                               download = True)\n",
        "\n",
        "val_dataset = datasets.MNIST(root = './cva_mnist_data/',\n",
        "                               train = False,\n",
        "                               transform = Compose([ToTensor(),\n",
        "                                                    Lambda(lambda x: torch.squeeze(x))]),\n",
        "                               target_transform = Lambda(lambda x: F.one_hot(torch.tensor(x), 10)),\n",
        "                               download = False)"
      ],
      "metadata": {
        "id": "RGAEFj0gQS-0"
      },
      "execution_count": 103,
      "outputs": []
    },
    {
      "cell_type": "code",
      "source": [
        "batch_size = 60\n",
        "train_loader = DataLoader(dataset=train_dataset, batch_size=batch_size, shuffle=True)\n",
        "val_loader = DataLoader(dataset=val_dataset, batch_size=batch_size, shuffle=False)"
      ],
      "metadata": {
        "id": "PimUKPouQS-0"
      },
      "execution_count": 104,
      "outputs": []
    },
    {
      "cell_type": "markdown",
      "source": [
        "# Создание класса модели"
      ],
      "metadata": {
        "id": "gZea7x3lQvC0"
      }
    },
    {
      "cell_type": "markdown",
      "source": [
        "Особенностью работы Conditional VAE являет подача метки класса на декодер. Для этого в методе decode сконкатенируем OHE векторы с метками классов, а в декодере изменим input"
      ],
      "metadata": {
        "id": "bRT7zlgPQ2MT"
      }
    },
    {
      "cell_type": "code",
      "source": [
        "class CVAE(nn.Module):\n",
        "    def __init__(self, latent_size=20, num_of_classes=10):\n",
        "        super(CVAE, self).__init__()\n",
        "        self.num_of_classes = num_of_classes\n",
        "        self.flatten = nn.Flatten()\n",
        "        self.latent_size = latent_size\n",
        "        self.encoder = nn.Sequential(\n",
        "            nn.Linear(in_features=28*28*1, out_features=256),\n",
        "            nn.ReLU(),\n",
        "            nn.BatchNorm1d(256),\n",
        "            nn.Dropout(0.3),\n",
        "            nn.Linear(in_features=256, out_features=128),\n",
        "            nn.ReLU(),\n",
        "            nn.BatchNorm1d(128),\n",
        "            nn.Dropout(0.3),\n",
        "            nn.Linear(in_features=128, out_features=self.latent_size*2)\n",
        "        )\n",
        "        self.decoder = nn.Sequential(\n",
        "            nn.Linear(in_features=self.latent_size + num_of_classes, out_features=128),\n",
        "            nn.ReLU(),\n",
        "            nn.BatchNorm1d(128),\n",
        "            nn.Dropout(0.3),\n",
        "            nn.Linear(in_features=128, out_features=256),\n",
        "            nn.ReLU(),\n",
        "            nn.BatchNorm1d(256),\n",
        "            nn.Dropout(0.3),\n",
        "            nn.Linear(in_features=256, out_features=28*28*1),\n",
        "            nn.Sigmoid()\n",
        "        )\n",
        "\n",
        "    def encode(self, x):\n",
        "        x = self.flatten(x)\n",
        "        x = self.encoder(x)\n",
        "        x = x.view(-1, 2, self.latent_size)\n",
        "        mu = x[:, 0, :]\n",
        "        log_var = x[:, 1, :]\n",
        "        sd = torch.exp(0.5 * log_var)\n",
        "        return mu, sd\n",
        "\n",
        "    def gaussian_sampler(self, mu, sd):\n",
        "        if self.training:\n",
        "            z = torch.randn_like(sd)\n",
        "            x = z * sd + mu\n",
        "            return x\n",
        "        else:\n",
        "            # на инференсе возвращаем не случайный вектор из нормального распределения, а центральный -- mu.\n",
        "            # на инференсе выход автоэнкодера должен быть детерминирован.\n",
        "            return mu\n",
        "\n",
        "    def decode(self, mu, sd, y):\n",
        "        x = self.gaussian_sampler(mu, sd)\n",
        "        x = torch.cat((x, y), dim=1)\n",
        "        reconstructed = self.decoder(x)\n",
        "        return reconstructed\n",
        "\n",
        "    def forward(self, x, y):\n",
        "        mu, sd = self.encode(x)\n",
        "        reconstructed = self.decode(mu, sd, y).view(-1, 28, 28)\n",
        "        return mu, sd, reconstructed"
      ],
      "metadata": {
        "id": "DQQNoFGO7SHq"
      },
      "execution_count": 105,
      "outputs": []
    },
    {
      "cell_type": "markdown",
      "source": [
        "# Создадим функцию потерь"
      ],
      "metadata": {
        "id": "1XDJkmz1QuEr"
      }
    },
    {
      "cell_type": "code",
      "source": [
        "def log_likelihood(x, reconstructed):\n",
        "    loss = nn.BCELoss(reduction='sum')\n",
        "    return loss(reconstructed, x)\n",
        "\n",
        "def KL_divergence(mu, sd):\n",
        "    loss = -0.5 * torch.sum(1 + torch.log(sd**2) - mu**2 - sd**2)\n",
        "    return loss\n",
        "\n",
        "def loss_cvae(x, reconstructed, mu, sd):\n",
        "    return (KL_divergence(mu, sd) + log_likelihood(x, reconstructed))/2/28/28"
      ],
      "metadata": {
        "id": "qS2FB_lLS0fU"
      },
      "execution_count": 114,
      "outputs": []
    },
    {
      "cell_type": "markdown",
      "source": [
        "# Инициализируем модель, функцию потерь, оптимизатор"
      ],
      "metadata": {
        "id": "6mr0Zj8EUk1U"
      }
    },
    {
      "cell_type": "code",
      "source": [
        "LATENT_SIZE = 20\n",
        "NUM_CLASSES = 10\n",
        "cvae = CVAE(LATENT_SIZE, NUM_CLASSES)\n",
        "criterion = loss_cvae\n",
        "optimizer = torch.optim.Adam(params=cvae.parameters())"
      ],
      "metadata": {
        "id": "JZAcYQPqIQ-2"
      },
      "execution_count": 150,
      "outputs": []
    },
    {
      "cell_type": "markdown",
      "source": [
        "## Функции для визуального контроля за обучаением модели"
      ],
      "metadata": {
        "id": "ZiRCt-3CZGx8"
      }
    },
    {
      "cell_type": "code",
      "source": [
        "def compare_pictures_vae(gt, rec):\n",
        "    \"\"\"\n",
        "    Функция получает на вход ихсодные картинки и восстановленные картинки, вытянутые в векторы.\n",
        "    Выводит соответствующие изображения, одно под другим\n",
        "    \"\"\"\n",
        "    rec = rec.cpu().detach().numpy()\n",
        "    gt = gt.cpu().numpy()\n",
        "    fig, axes = plt.subplots(2, 5, figsize=(8, 3))\n",
        "    axes = axes.flatten()\n",
        "    for i, photo in enumerate(np.concatenate([gt, rec])):\n",
        "        photo = np.clip(photo, 0, 1)\n",
        "        axes[i].imshow(photo, cmap='gray')\n",
        "        axes[i].axis('off')\n",
        "\n",
        "    plt.tight_layout()\n",
        "    plt.show()"
      ],
      "metadata": {
        "id": "dyMHYQOGkJUD"
      },
      "execution_count": 140,
      "outputs": []
    },
    {
      "cell_type": "code",
      "source": [
        "def losses_chart(train_losses, val_losses):\n",
        "    \"\"\"\n",
        "    Функция получает списки лоссов на трейне и валидации и отрисовывает графики\n",
        "    \"\"\"\n",
        "    epoch = len(train_losses)\n",
        "    plt.plot(range(1, epoch + 1), train_losses, label = 'Training Loss')\n",
        "    plt.plot(range(1, epoch + 1), val_losses, label = 'Validation Loss')\n",
        "    plt.title('Training and Validation Loss Over Epochs')\n",
        "    plt.xlabel('Epoch')\n",
        "    plt.ylabel('Loss')\n",
        "    plt.legend()\n",
        "    plt.show()"
      ],
      "metadata": {
        "id": "BuWTPYcvjy20"
      },
      "execution_count": 141,
      "outputs": []
    },
    {
      "cell_type": "markdown",
      "source": [
        "# Функция для обучения модели"
      ],
      "metadata": {
        "id": "Xia3wPXhVG1U"
      }
    },
    {
      "cell_type": "code",
      "source": [
        "def train_cvae(model, loss_fn, optimizer, train_loader, val_loader, n_epochs):\n",
        "    device = 'cuda:0' if torch.cuda.is_available() else 'cpu'\n",
        "    model.to(device)\n",
        "    train_losses, val_losses = [], []\n",
        "\n",
        "    for epoch in tqdm(range(n_epochs)):\n",
        "        train_loss_per_epoch, val_loss_per_epoch = [], []\n",
        "        model.train()\n",
        "        for i, (X, y) in enumerate(train_loader):\n",
        "            X = X.to(device)\n",
        "            y = y.to(device)\n",
        "            optimizer.zero_grad()\n",
        "            mu, sd, reconstructed = model(X, y)\n",
        "            loss = loss_fn(X, reconstructed, mu, sd)\n",
        "            loss.backward()\n",
        "            optimizer.step()\n",
        "            train_loss_per_epoch.append(loss.detach().cpu().item())\n",
        "        train_loss = sum(train_loss_per_epoch) / len(train_loss_per_epoch)\n",
        "        train_losses.append(train_loss)\n",
        "\n",
        "        model.eval()\n",
        "        with torch.no_grad():\n",
        "            for i, (X, y) in enumerate(val_loader):\n",
        "                X = X.to(device)\n",
        "                y = y.to(device)\n",
        "                mu, sd, reconstructed = model(X, y)\n",
        "                loss = loss_fn(X, reconstructed, mu, sd)\n",
        "                val_loss_per_epoch.append(loss.detach().cpu().item())\n",
        "        val_loss = sum(val_loss_per_epoch) / len(val_loss_per_epoch)\n",
        "        val_losses.append(val_loss)\n",
        "\n",
        "        display.clear_output(wait=True) # clear previous output\n",
        "        for i in range(0, 11, 5):\n",
        "            compare_pictures_vae(X[i:i+5], reconstructed[i:i+5])\n",
        "        losses_chart(train_losses, val_losses)\n",
        "        print(f\"Epoch [{epoch + 1}/{n_epochs}],\",\n",
        "              f\"\\nTraining loss: {np.mean(train_loss):.4f},\",\n",
        "              f\"\\nValidation loss: {np.mean(val_loss):.4f}\")\n",
        "\n",
        "    return train_losses, val_losses\n",
        ""
      ],
      "metadata": {
        "id": "VnRQiWOuVnp-"
      },
      "execution_count": 142,
      "outputs": []
    },
    {
      "cell_type": "markdown",
      "source": [
        "# Обучение модели"
      ],
      "metadata": {
        "id": "fWsZgFaqalW7"
      }
    },
    {
      "cell_type": "code",
      "source": [
        "train_losses, val_losses = train_cvae(cvae, criterion, optimizer, train_loader, val_loader, 15)"
      ],
      "metadata": {
        "colab": {
          "base_uri": "https://localhost:8080/",
          "height": 1000,
          "referenced_widgets": [
            "6159a127a0d94db9ad11797b0b5955b8",
            "b56d1e2a0e8b4689ad3fea151ec662dc",
            "20e3ec221de74197afbdd061a23dd4d7",
            "c97e7fcbd2b44f76aa9b7822d96997f5",
            "8d39e1c0c26949c5aee24df35c360575",
            "66cc02f641264ff5811fc72718abdf41",
            "fbab4db8caf4453da456c0617c0e5b0e",
            "f99e28ed5609403c90823f923f83b3db",
            "4db779c2616f4e50bc8c45c217adbe0c",
            "e2d5ec18adb4438c9e5100a926e253c4",
            "df9637114ce84b8e8ca8331bc4d40ed5"
          ]
        },
        "id": "s_ZlhdIVanpZ",
        "outputId": "1e8a0fdb-39f1-4497-d683-99c8db8af62d"
      },
      "execution_count": 143,
      "outputs": [
        {
          "output_type": "display_data",
          "data": {
            "text/plain": [
              "<Figure size 800x300 with 10 Axes>"
            ],
            "image/png": "[encoded data removed]"
          },
          "metadata": {}
        },
        {
          "output_type": "display_data",
          "data": {
            "text/plain": [
              "<Figure size 800x300 with 10 Axes>"
            ],
            "image/png": "[encoded data removed]"
          },
          "metadata": {}
        },
        {
          "output_type": "display_data",
          "data": {
            "text/plain": [
              "<Figure size 800x300 with 10 Axes>"
            ],
            "image/png": "[encoded data removed]"
          },
          "metadata": {}
        },
        {
          "output_type": "display_data",
          "data": {
            "text/plain": [
              "<Figure size 640x480 with 1 Axes>"
            ],
            "image/png": "[encoded data removed]"
          },
          "metadata": {}
        },
        {
          "output_type": "stream",
          "name": "stdout",
          "text": [
            "Epoch [15/15], \n",
            "Training loss: 4.9740, \n",
            "Validation loss: 4.1601\n"
          ]
        }
      ]
    },
    {
      "cell_type": "code",
      "source": [
        "torch.save(cvae, 'cvae.pt')"
      ],
      "metadata": {
        "id": "QN-rFnJTfnYE"
      },
      "execution_count": 144,
      "outputs": []
    },
    {
      "cell_type": "code",
      "source": [
        "device = 'cpu:0' if torch.cuda.is_available() else 'cpu'\n",
        "cvae = torch.load('cvae.pt').to(device)"
      ],
      "metadata": {
        "id": "g5k2XTj_f9Ak"
      },
      "execution_count": 151,
      "outputs": []
    },
    {
      "cell_type": "markdown",
      "metadata": {
        "id": "VoMw-IFyP5A2"
      },
      "source": [
        "### Sampling\n"
      ]
    },
    {
      "cell_type": "code",
      "source": [
        "num_pictures = 10\n",
        "mu = torch.tensor(np.array([np.random.normal(0, 1, LATENT_SIZE) for i in range(num_pictures)])).to(device)\n",
        "sd = torch.tensor(np.array([np.random.normal(0, 1, LATENT_SIZE) for i in range(num_pictures)])).to(device)\n",
        "y = torch.tensor([5 for _ in range(num_pictures)])"
      ],
      "metadata": {
        "id": "0dEcIAGZgZf-"
      },
      "execution_count": 154,
      "outputs": []
    },
    {
      "cell_type": "code",
      "source": [],
      "metadata": {
        "id": "KAt3iotEhWje"
      },
      "execution_count": null,
      "outputs": []
    },
    {
      "cell_type": "markdown",
      "metadata": {
        "id": "qe1zWyZHkLV2"
      },
      "source": [
        "Тут мы будем сэмплировать из CVAE. Это прикольнее, чем сэмплировать из простого AE/VAE: тут можно взять один и тот же латентный вектор и попросить CVAE восстановить из него картинки разных классов!\n",
        "Для MNIST вы можете попросить CVAE восстановить из одного латентного вектора, например, картинки цифры 5 и 7."
      ]
    },
    {
      "cell_type": "code",
      "metadata": {
        "id": "A0SQIhvNP9Dr"
      },
      "source": [
        "<тут нужно научиться сэмплировать из декодера цифры определенного класса>"
      ],
      "execution_count": null,
      "outputs": []
    },
    {
      "cell_type": "markdown",
      "metadata": {
        "id": "nAWBu8rzQBgQ"
      },
      "source": [
        "Splendid! Вы великолепны!\n"
      ]
    },
    {
      "cell_type": "markdown",
      "metadata": {
        "id": "Rt2S77cm3O1v"
      },
      "source": [
        "### Latent Representations"
      ]
    },
    {
      "cell_type": "markdown",
      "metadata": {
        "id": "Nt7x8Ek_rHTE"
      },
      "source": [
        "Давайте посмотрим, как выглядит латентное пространство картинок в CVAE и сравним с картинкой для VAE =)\n",
        "\n",
        "Опять же, нужно покрасить точки в разные цвета в зависимости от класса."
      ]
    },
    {
      "cell_type": "code",
      "metadata": {
        "id": "LSCYK7sH3KEc"
      },
      "source": [
        "<ваш код получения латентных представлений, применения TSNE и визуализации>"
      ],
      "execution_count": null,
      "outputs": []
    },
    {
      "cell_type": "markdown",
      "metadata": {
        "id": "ET8IELWu3Z2c"
      },
      "source": [
        "Что вы думаете насчет этой картинки? Отличается от картинки для VAE?"
      ]
    },
    {
      "cell_type": "markdown",
      "metadata": {
        "id": "SWkqHjvTCD_8"
      },
      "source": []
    }
  ]
}