{
  "nbformat": 4,
  "nbformat_minor": 0,
  "metadata": {
    "colab": {
      "provenance": [],
      "gpuType": "T4",
      "authorship_tag": "ABX9TyNQNbNl21H9wBYShjjD6Goz",
      "include_colab_link": true
    },
    "kernelspec": {
      "name": "python3",
      "display_name": "Python 3"
    },
    "language_info": {
      "name": "python"
    },
    "widgets": {
      "application/vnd.jupyter.widget-state+json": {
        "02f7893a1c46467bb0f3c9e0734c6d92": {
          "model_module": "@jupyter-widgets/controls",
          "model_name": "HBoxModel",
          "model_module_version": "1.5.0",
          "state": {
            "_dom_classes": [],
            "_model_module": "@jupyter-widgets/controls",
            "_model_module_version": "1.5.0",
            "_model_name": "HBoxModel",
            "_view_count": null,
            "_view_module": "@jupyter-widgets/controls",
            "_view_module_version": "1.5.0",
            "_view_name": "HBoxView",
            "box_style": "",
            "children": [
              "IPY_MODEL_9ddf4622c7e8430aba8ac52ffbd1d6d1",
              "IPY_MODEL_b52e7589438b450790ad9ebc7e0d1e6a",
              "IPY_MODEL_9559590b0ae04cfa80c54f44384db941"
            ],
            "layout": "IPY_MODEL_29781bad787745ce8597eac7f47b9b31"
          }
        },
        "9ddf4622c7e8430aba8ac52ffbd1d6d1": {
          "model_module": "@jupyter-widgets/controls",
          "model_name": "HTMLModel",
          "model_module_version": "1.5.0",
          "state": {
            "_dom_classes": [],
            "_model_module": "@jupyter-widgets/controls",
            "_model_module_version": "1.5.0",
            "_model_name": "HTMLModel",
            "_view_count": null,
            "_view_module": "@jupyter-widgets/controls",
            "_view_module_version": "1.5.0",
            "_view_name": "HTMLView",
            "description": "",
            "description_tooltip": null,
            "layout": "IPY_MODEL_ee7a4617baed475289e198697210c43b",
            "placeholder": "​",
            "style": "IPY_MODEL_15c41347cc754680a8cf4ba601f72804",
            "value": "100%"
          }
        },
        "b52e7589438b450790ad9ebc7e0d1e6a": {
          "model_module": "@jupyter-widgets/controls",
          "model_name": "FloatProgressModel",
          "model_module_version": "1.5.0",
          "state": {
            "_dom_classes": [],
            "_model_module": "@jupyter-widgets/controls",
            "_model_module_version": "1.5.0",
            "_model_name": "FloatProgressModel",
            "_view_count": null,
            "_view_module": "@jupyter-widgets/controls",
            "_view_module_version": "1.5.0",
            "_view_name": "ProgressView",
            "bar_style": "success",
            "description": "",
            "description_tooltip": null,
            "layout": "IPY_MODEL_f79c97d1a8ef4761bbfef2c8f7bb006b",
            "max": 15,
            "min": 0,
            "orientation": "horizontal",
            "style": "IPY_MODEL_e24dbab41db94f718a8be79982bb64c8",
            "value": 15
          }
        },
        "9559590b0ae04cfa80c54f44384db941": {
          "model_module": "@jupyter-widgets/controls",
          "model_name": "HTMLModel",
          "model_module_version": "1.5.0",
          "state": {
            "_dom_classes": [],
            "_model_module": "@jupyter-widgets/controls",
            "_model_module_version": "1.5.0",
            "_model_name": "HTMLModel",
            "_view_count": null,
            "_view_module": "@jupyter-widgets/controls",
            "_view_module_version": "1.5.0",
            "_view_name": "HTMLView",
            "description": "",
            "description_tooltip": null,
            "layout": "IPY_MODEL_ccac1036cd3742238bbdc19526d242b5",
            "placeholder": "​",
            "style": "IPY_MODEL_97b610bc715d4c2487d4dbb34f42f64d",
            "value": " 15/15 [03:25&lt;00:00, 13.56s/it]"
          }
        },
        "29781bad787745ce8597eac7f47b9b31": {
          "model_module": "@jupyter-widgets/base",
          "model_name": "LayoutModel",
          "model_module_version": "1.2.0",
          "state": {
            "_model_module": "@jupyter-widgets/base",
            "_model_module_version": "1.2.0",
            "_model_name": "LayoutModel",
            "_view_count": null,
            "_view_module": "@jupyter-widgets/base",
            "_view_module_version": "1.2.0",
            "_view_name": "LayoutView",
            "align_content": null,
            "align_items": null,
            "align_self": null,
            "border": null,
            "bottom": null,
            "display": null,
            "flex": null,
            "flex_flow": null,
            "grid_area": null,
            "grid_auto_columns": null,
            "grid_auto_flow": null,
            "grid_auto_rows": null,
            "grid_column": null,
            "grid_gap": null,
            "grid_row": null,
            "grid_template_areas": null,
            "grid_template_columns": null,
            "grid_template_rows": null,
            "height": null,
            "justify_content": null,
            "justify_items": null,
            "left": null,
            "margin": null,
            "max_height": null,
            "max_width": null,
            "min_height": null,
            "min_width": null,
            "object_fit": null,
            "object_position": null,
            "order": null,
            "overflow": null,
            "overflow_x": null,
            "overflow_y": null,
            "padding": null,
            "right": null,
            "top": null,
            "visibility": null,
            "width": null
          }
        },
        "ee7a4617baed475289e198697210c43b": {
          "model_module": "@jupyter-widgets/base",
          "model_name": "LayoutModel",
          "model_module_version": "1.2.0",
          "state": {
            "_model_module": "@jupyter-widgets/base",
            "_model_module_version": "1.2.0",
            "_model_name": "LayoutModel",
            "_view_count": null,
            "_view_module": "@jupyter-widgets/base",
            "_view_module_version": "1.2.0",
            "_view_name": "LayoutView",
            "align_content": null,
            "align_items": null,
            "align_self": null,
            "border": null,
            "bottom": null,
            "display": null,
            "flex": null,
            "flex_flow": null,
            "grid_area": null,
            "grid_auto_columns": null,
            "grid_auto_flow": null,
            "grid_auto_rows": null,
            "grid_column": null,
            "grid_gap": null,
            "grid_row": null,
            "grid_template_areas": null,
            "grid_template_columns": null,
            "grid_template_rows": null,
            "height": null,
            "justify_content": null,
            "justify_items": null,
            "left": null,
            "margin": null,
            "max_height": null,
            "max_width": null,
            "min_height": null,
            "min_width": null,
            "object_fit": null,
            "object_position": null,
            "order": null,
            "overflow": null,
            "overflow_x": null,
            "overflow_y": null,
            "padding": null,
            "right": null,
            "top": null,
            "visibility": null,
            "width": null
          }
        },
        "15c41347cc754680a8cf4ba601f72804": {
          "model_module": "@jupyter-widgets/controls",
          "model_name": "DescriptionStyleModel",
          "model_module_version": "1.5.0",
          "state": {
            "_model_module": "@jupyter-widgets/controls",
            "_model_module_version": "1.5.0",
            "_model_name": "DescriptionStyleModel",
            "_view_count": null,
            "_view_module": "@jupyter-widgets/base",
            "_view_module_version": "1.2.0",
            "_view_name": "StyleView",
            "description_width": ""
          }
        },
        "f79c97d1a8ef4761bbfef2c8f7bb006b": {
          "model_module": "@jupyter-widgets/base",
          "model_name": "LayoutModel",
          "model_module_version": "1.2.0",
          "state": {
            "_model_module": "@jupyter-widgets/base",
            "_model_module_version": "1.2.0",
            "_model_name": "LayoutModel",
            "_view_count": null,
            "_view_module": "@jupyter-widgets/base",
            "_view_module_version": "1.2.0",
            "_view_name": "LayoutView",
            "align_content": null,
            "align_items": null,
            "align_self": null,
            "border": null,
            "bottom": null,
            "display": null,
            "flex": null,
            "flex_flow": null,
            "grid_area": null,
            "grid_auto_columns": null,
            "grid_auto_flow": null,
            "grid_auto_rows": null,
            "grid_column": null,
            "grid_gap": null,
            "grid_row": null,
            "grid_template_areas": null,
            "grid_template_columns": null,
            "grid_template_rows": null,
            "height": null,
            "justify_content": null,
            "justify_items": null,
            "left": null,
            "margin": null,
            "max_height": null,
            "max_width": null,
            "min_height": null,
            "min_width": null,
            "object_fit": null,
            "object_position": null,
            "order": null,
            "overflow": null,
            "overflow_x": null,
            "overflow_y": null,
            "padding": null,
            "right": null,
            "top": null,
            "visibility": null,
            "width": null
          }
        },
        "e24dbab41db94f718a8be79982bb64c8": {
          "model_module": "@jupyter-widgets/controls",
          "model_name": "ProgressStyleModel",
          "model_module_version": "1.5.0",
          "state": {
            "_model_module": "@jupyter-widgets/controls",
            "_model_module_version": "1.5.0",
            "_model_name": "ProgressStyleModel",
            "_view_count": null,
            "_view_module": "@jupyter-widgets/base",
            "_view_module_version": "1.2.0",
            "_view_name": "StyleView",
            "bar_color": null,
            "description_width": ""
          }
        },
        "ccac1036cd3742238bbdc19526d242b5": {
          "model_module": "@jupyter-widgets/base",
          "model_name": "LayoutModel",
          "model_module_version": "1.2.0",
          "state": {
            "_model_module": "@jupyter-widgets/base",
            "_model_module_version": "1.2.0",
            "_model_name": "LayoutModel",
            "_view_count": null,
            "_view_module": "@jupyter-widgets/base",
            "_view_module_version": "1.2.0",
            "_view_name": "LayoutView",
            "align_content": null,
            "align_items": null,
            "align_self": null,
            "border": null,
            "bottom": null,
            "display": null,
            "flex": null,
            "flex_flow": null,
            "grid_area": null,
            "grid_auto_columns": null,
            "grid_auto_flow": null,
            "grid_auto_rows": null,
            "grid_column": null,
            "grid_gap": null,
            "grid_row": null,
            "grid_template_areas": null,
            "grid_template_columns": null,
            "grid_template_rows": null,
            "height": null,
            "justify_content": null,
            "justify_items": null,
            "left": null,
            "margin": null,
            "max_height": null,
            "max_width": null,
            "min_height": null,
            "min_width": null,
            "object_fit": null,
            "object_position": null,
            "order": null,
            "overflow": null,
            "overflow_x": null,
            "overflow_y": null,
            "padding": null,
            "right": null,
            "top": null,
            "visibility": null,
            "width": null
          }
        },
        "97b610bc715d4c2487d4dbb34f42f64d": {
          "model_module": "@jupyter-widgets/controls",
          "model_name": "DescriptionStyleModel",
          "model_module_version": "1.5.0",
          "state": {
            "_model_module": "@jupyter-widgets/controls",
            "_model_module_version": "1.5.0",
            "_model_name": "DescriptionStyleModel",
            "_view_count": null,
            "_view_module": "@jupyter-widgets/base",
            "_view_module_version": "1.2.0",
            "_view_name": "StyleView",
            "description_width": ""
          }
        }
      }
    },
    "accelerator": "GPU"
  },
  "cells": [
    {
      "cell_type": "markdown",
      "metadata": {
        "id": "view-in-github",
        "colab_type": "text"
      },
      "source": [
        "<a href=\"https://colab.research.google.com/github/stepan-zykov/DLS/blob/main/AutoEncoder/mnist_vae.ipynb\" target=\"_parent\"><img src=\"https://colab.research.google.com/assets/colab-badge.svg\" alt=\"Open In Colab\"/></a>"
      ]
    },
    {
      "cell_type": "code",
      "execution_count": 1,
      "metadata": {
        "id": "VjsUwugLjbm-"
      },
      "outputs": [],
      "source": [
        "import numpy as np\n",
        "from torch.autograd import Variable\n",
        "from torchvision import datasets, transforms\n",
        "import torch.nn as nn\n",
        "import torch.nn.functional as F\n",
        "import torch.optim as optim\n",
        "import torch.utils.data as data_utils\n",
        "import torch\n",
        "import matplotlib.pyplot as plt\n",
        "\n",
        "import os\n",
        "import pandas as pd\n",
        "import skimage.io\n",
        "from skimage.transform import resize\n",
        "\n",
        "\n",
        "%matplotlib inline"
      ]
    },
    {
      "cell_type": "code",
      "source": [
        "from sklearn.model_selection import train_test_split\n",
        "from tqdm.notebook import tqdm_notebook\n",
        "from matplotlib.colors import Normalize\n",
        "import IPython.display as display\n",
        "from math import ceil"
      ],
      "metadata": {
        "id": "PGT-Td3kjk2R"
      },
      "execution_count": 2,
      "outputs": []
    },
    {
      "cell_type": "code",
      "source": [
        "from google.colab import drive\n",
        "drive.mount('/content/drive/')"
      ],
      "metadata": {
        "colab": {
          "base_uri": "https://localhost:8080/"
        },
        "id": "uieIlmA-jqh8",
        "outputId": "0bfdf005-fd8f-46f7-f9c0-afd1a9bc286d"
      },
      "execution_count": 3,
      "outputs": [
        {
          "output_type": "stream",
          "name": "stdout",
          "text": [
            "Mounted at /content/drive/\n"
          ]
        }
      ]
    },
    {
      "cell_type": "code",
      "source": [
        "os.chdir('/content/drive/MyDrive/DLS/HW/HW7_AutoEncoder/')"
      ],
      "metadata": {
        "id": "Eel8XrnsjsVb"
      },
      "execution_count": 8,
      "outputs": []
    },
    {
      "cell_type": "code",
      "source": [
        "os.getcwd()"
      ],
      "metadata": {
        "colab": {
          "base_uri": "https://localhost:8080/",
          "height": 35
        },
        "id": "HBVqkxc4jyTA",
        "outputId": "580305cd-6b5d-4ab3-ca6b-023c748ca215"
      },
      "execution_count": 9,
      "outputs": [
        {
          "output_type": "execute_result",
          "data": {
            "text/plain": [
              "'/content/drive/MyDrive/DLS/HW/HW7_AutoEncoder'"
            ],
            "application/vnd.google.colaboratory.intrinsic+json": {
              "type": "string"
            }
          },
          "metadata": {},
          "execution_count": 9
        }
      ]
    },
    {
      "cell_type": "markdown",
      "source": [
        "Загружаем датасет MNIST, преобразуем данные в PyTorch тензоры"
      ],
      "metadata": {
        "id": "t3RTNscLbNps"
      }
    },
    {
      "cell_type": "code",
      "source": [
        "batch_size = 60\n",
        "# MNIST Dataset\n",
        "train_dataset = datasets.MNIST(root='./mnist_data/', train=True, transform=transforms.ToTensor(), download=True)\n",
        "test_dataset = datasets.MNIST(root='./mnist_data/', train=False, transform=transforms.ToTensor(), download=False)\n",
        "\n",
        "# Data Loader (Input Pipeline)\n",
        "train_loader = torch.utils.data.DataLoader(dataset=train_dataset, batch_size=batch_size, shuffle=True)\n",
        "val_loader = torch.utils.data.DataLoader(dataset=test_dataset, batch_size=batch_size, shuffle=False)"
      ],
      "metadata": {
        "id": "4ViyYdpCj2rg"
      },
      "execution_count": 10,
      "outputs": []
    },
    {
      "cell_type": "code",
      "source": [
        "def compare_pictures_vae(gt, rec):\n",
        "    \"\"\"\n",
        "    Функция получает на вход ихсодные картинки и восстановленные картинки, вытянутые в векторы.\n",
        "    Выводит соответствующие изображения, одно под другим\n",
        "    \"\"\"\n",
        "    rec = rec.view(-1, 28, 28).cpu().detach().numpy()\n",
        "    gt = gt.view(-1, 28, 28).cpu().numpy()\n",
        "    fig, axes = plt.subplots(2, 5, figsize=(8, 3))\n",
        "    axes = axes.flatten()\n",
        "    for i, photo in enumerate(np.concatenate([gt, rec])):\n",
        "        photo = np.clip(photo, 0, 1)\n",
        "        axes[i].imshow(photo, cmap='gray')\n",
        "        axes[i].axis('off')\n",
        "\n",
        "    plt.tight_layout()\n",
        "    plt.show()"
      ],
      "metadata": {
        "id": "dyMHYQOGkJUD"
      },
      "execution_count": 84,
      "outputs": []
    },
    {
      "cell_type": "code",
      "source": [
        "def losses_chart(train_losses, val_losses):\n",
        "    \"\"\"\n",
        "    Функция получает списки лоссов на трейне и валидации и отрисовывает графики\n",
        "    \"\"\"\n",
        "    epoch = len(train_losses)\n",
        "    plt.plot(range(1, epoch + 1), train_losses, label = 'Training Loss')\n",
        "    plt.plot(range(1, epoch + 1), val_losses, label = 'Validation Loss')\n",
        "    plt.title('Training and Validation Loss Over Epochs')\n",
        "    plt.xlabel('Epoch')\n",
        "    plt.ylabel('Loss')\n",
        "    plt.legend()\n",
        "    plt.show()"
      ],
      "metadata": {
        "id": "BuWTPYcvjy20"
      },
      "execution_count": 85,
      "outputs": []
    },
    {
      "cell_type": "code",
      "source": [
        "# число признаков в латентном слое\n",
        "latent_features = 20"
      ],
      "metadata": {
        "id": "3XbSqNLpj9T6"
      },
      "execution_count": 86,
      "outputs": []
    },
    {
      "cell_type": "code",
      "source": [
        "class VAE(nn.Module):\n",
        "    def __init__(self):\n",
        "        super(VAE, self).__init__()\n",
        "\n",
        "        self.flatten = nn.Flatten()\n",
        "\n",
        "        self.encoder = nn.Sequential(\n",
        "            nn.Linear(in_features=28*28, out_features = 256),\n",
        "            nn.ReLU(),\n",
        "            nn.BatchNorm1d(256),\n",
        "            nn.Dropout(0.3),\n",
        "\n",
        "            nn.Linear(in_features=256, out_features = 128),\n",
        "            nn.ReLU(),\n",
        "            nn.BatchNorm1d(128),\n",
        "            nn.Dropout(0.3),\n",
        "\n",
        "            nn.Linear(128, latent_features*2))\n",
        "\n",
        "        self.decoder = nn.Sequential(\n",
        "            nn.Linear(latent_features, 128),\n",
        "            nn.ReLU(),\n",
        "            nn.BatchNorm1d(128),\n",
        "            nn.Dropout(0.3),\n",
        "\n",
        "            nn.Linear(128, 256),\n",
        "            nn.ReLU(),\n",
        "            nn.BatchNorm1d(256),\n",
        "            nn.Dropout(0.3),\n",
        "\n",
        "            nn.Linear(256, 28*28),\n",
        "            nn.Sigmoid()\n",
        "        )\n",
        "\n",
        "    def encode(self, x):\n",
        "        x = self.flatten(x).float()\n",
        "        x = self.encoder(x).view(-1, 2, latent_features)\n",
        "        mu = x[:, 0, :]\n",
        "        log_var = x[:, 1, :]\n",
        "        return mu, log_var\n",
        "\n",
        "    def gaussian_sampler(self, mu, log_var):\n",
        "        if self.training:\n",
        "            std = torch.exp(0.5 * log_var)\n",
        "            eps = torch.randn_like(std)\n",
        "            sample = mu + (eps * std)\n",
        "            return sample\n",
        "        else:\n",
        "            # на инференсе возвращаем не случайный вектор из нормального распределения, а центральный -- mu.\n",
        "            # на инференсе выход автоэнкодера должен быть детерминирован.\n",
        "            return mu\n",
        "\n",
        "    def decode(self, mu, log_var):\n",
        "        z = self.gaussian_sampler(mu, log_var)\n",
        "        reconstruction = self.decoder(z)\n",
        "        return reconstruction\n",
        "\n",
        "    def forward(self, x):\n",
        "        mu, log_var = self.encode(x)\n",
        "        reconstruction = self.decode(mu, log_var)\n",
        "        return mu, log_var, reconstruction"
      ],
      "metadata": {
        "id": "Cu-Pu1mmj_hP"
      },
      "execution_count": 14,
      "outputs": []
    },
    {
      "cell_type": "code",
      "source": [
        "x = next(iter(train_loader))[0].to(device)"
      ],
      "metadata": {
        "id": "9b2dRj1IXhxF"
      },
      "execution_count": 57,
      "outputs": []
    },
    {
      "cell_type": "code",
      "source": [
        "mu, log_var = autoencoder.encode(x)"
      ],
      "metadata": {
        "id": "FU1KN3KnXr6d"
      },
      "execution_count": 58,
      "outputs": []
    },
    {
      "cell_type": "code",
      "source": [
        "mu.shape"
      ],
      "metadata": {
        "colab": {
          "base_uri": "https://localhost:8080/"
        },
        "id": "ITpo044DYh4B",
        "outputId": "95e010a2-3941-42cb-9766-e2bd4bcfdc93"
      },
      "execution_count": 59,
      "outputs": [
        {
          "output_type": "execute_result",
          "data": {
            "text/plain": [
              "torch.Size([60, 20])"
            ]
          },
          "metadata": {},
          "execution_count": 59
        }
      ]
    },
    {
      "cell_type": "code",
      "source": [
        "def KL_divergence(mu, log_var):\n",
        "    \"\"\"\n",
        "    часть функции потерь, которая отвечает за \"близость\" латентных представлений разных людей\n",
        "    \"\"\"\n",
        "    loss = -0.5 * torch.sum(1 + log_var - mu.pow(2) - log_var.exp())\n",
        "    return loss\n",
        "\n",
        "def log_likelihood(x, reconstruction):\n",
        "    \"\"\"\n",
        "    часть функции потерь, которая отвечает за качество реконструкции (как mse в обычном autoencoder)\n",
        "    \"\"\"\n",
        "    loss = nn.BCELoss(reduction='sum')\n",
        "    return loss(reconstruction, x)\n",
        "\n",
        "def loss_vae(x, mu, log_var, reconstruction):\n",
        "    return (KL_divergence(mu, log_var) + log_likelihood(x, reconstruction))/2/28/28"
      ],
      "metadata": {
        "id": "8Ymtud43kCW6"
      },
      "execution_count": 26,
      "outputs": []
    },
    {
      "cell_type": "code",
      "source": [
        "device = 'cuda:0' if torch.cuda.is_available() else 'cpu'\n",
        "\n",
        "criterion = loss_vae\n",
        "\n",
        "autoencoder = VAE().to(device)\n",
        "\n",
        "optimizer = torch.optim.Adam(autoencoder.parameters())"
      ],
      "metadata": {
        "id": "H52-sE5YkEY_"
      },
      "execution_count": 27,
      "outputs": []
    },
    {
      "cell_type": "code",
      "source": [
        "def train(model, optimizer, loss_fn, train_loader, val_loader, n_epochs=10):\n",
        "    device = 'cuda:0' if torch.cuda.is_available() else 'cpu'\n",
        "    model = model.to(device)\n",
        "    train_losses, val_losses = [], []\n",
        "    for epoch in tqdm_notebook(range(n_epochs)):\n",
        "        model.train()\n",
        "        train_losses_per_epoch = []\n",
        "        for i, (X_batch, _ ) in enumerate(train_loader):\n",
        "            X_batch = X_batch.float().to(device)\n",
        "            optimizer.zero_grad()\n",
        "            mu, log_var, reconstruction = model(X_batch)\n",
        "            loss = loss_fn(X_batch.view(-1, 28*28), mu, log_var, reconstruction) # x, mu, log_var, reconstruction\n",
        "            loss.backward()\n",
        "            optimizer.step()\n",
        "            train_losses_per_epoch.append(loss.item())\n",
        "        train_losses.append(np.mean(train_losses_per_epoch))\n",
        "\n",
        "        model.eval()\n",
        "        val_losses_per_epoch = []\n",
        "        with torch.no_grad():\n",
        "          for X_batch, _ in val_loader:\n",
        "              X_batch = X_batch.float().to(device)\n",
        "              mu, log_var, reconstruction = model(X_batch)\n",
        "              loss = loss_fn(X_batch.view(-1, 28*28), mu, log_var, reconstruction)\n",
        "              val_losses_per_epoch.append(loss.item())\n",
        "        val_losses.append(np.mean(val_losses_per_epoch))\n",
        "        display.clear_output(wait=True) # clear previous output\n",
        "        for i in range(0, 11, 5):\n",
        "            compare_pictures_vae(X_batch[i:i+5], reconstruction[i:i+5])\n",
        "        losses_chart(train_losses, val_losses)\n",
        "        print(f\"Epoch [{epoch + 1}/{n_epochs}],\",\n",
        "              f\"\\nTraining loss: {np.mean(train_losses_per_epoch):.4f},\",\n",
        "              f\"\\nValidation loss: {np.mean(val_losses_per_epoch):.4f}\")\n",
        "\n",
        "    return train_losses, val_losses"
      ],
      "metadata": {
        "id": "FhIEFmJjkG2v"
      },
      "execution_count": 28,
      "outputs": []
    },
    {
      "cell_type": "code",
      "source": [
        "train_losses, val_losses = train(autoencoder, optimizer, criterion, train_loader, val_loader, 15)"
      ],
      "metadata": {
        "colab": {
          "base_uri": "https://localhost:8080/",
          "height": 1000,
          "referenced_widgets": [
            "02f7893a1c46467bb0f3c9e0734c6d92",
            "9ddf4622c7e8430aba8ac52ffbd1d6d1",
            "b52e7589438b450790ad9ebc7e0d1e6a",
            "9559590b0ae04cfa80c54f44384db941",
            "29781bad787745ce8597eac7f47b9b31",
            "ee7a4617baed475289e198697210c43b",
            "15c41347cc754680a8cf4ba601f72804",
            "f79c97d1a8ef4761bbfef2c8f7bb006b",
            "e24dbab41db94f718a8be79982bb64c8",
            "ccac1036cd3742238bbdc19526d242b5",
            "97b610bc715d4c2487d4dbb34f42f64d"
          ]
        },
        "id": "_4zmPm-JkNkF",
        "outputId": "1097f1d0-567e-4895-a662-fb1f8be17d9f"
      },
      "execution_count": 29,
      "outputs": [
        {
          "output_type": "display_data",
          "data": {
            "text/plain": [
              "<Figure size 800x300 with 10 Axes>"
            ],
            "image/png": "[encoded data removed]"
          },
          "metadata": {}
        },
        {
          "output_type": "display_data",
          "data": {
            "text/plain": [
              "<Figure size 800x300 with 10 Axes>"
            ],
            "image/png": "[encoded data removed]"
          },
          "metadata": {}
        },
        {
          "output_type": "display_data",
          "data": {
            "text/plain": [
              "<Figure size 800x300 with 10 Axes>"
            ],
            "image/png": "[encoded data removed]"
          },
          "metadata": {}
        },
        {
          "output_type": "display_data",
          "data": {
            "text/plain": [
              "<Figure size 640x480 with 1 Axes>"
            ],
            "image/png": "[encoded data removed]"
          },
          "metadata": {}
        },
        {
          "output_type": "stream",
          "name": "stdout",
          "text": [
            "Epoch [15/15], \n",
            "Training loss: 5.1336, \n",
            "Validation loss: 4.2501\n"
          ]
        }
      ]
    },
    {
      "cell_type": "markdown",
      "metadata": {
        "scrolled": true,
        "id": "SkxW_8fkYY8B"
      },
      "source": [
        "Давайте посмотрим, как наш тренированный VAE кодирует и восстанавливает картинки:"
      ]
    },
    {
      "cell_type": "code",
      "source": [
        "autoencoder.eval()\n",
        "with torch.no_grad():\n",
        "    for X_batch, y in val_loader:\n",
        "        X_batch = X_batch[:5]\n",
        "        X_batch = X_batch.float().to(device)\n",
        "        mu, log_var, reconstruction = autoencoder(X_batch)\n",
        "        compare_pictures_vae(X_batch, reconstruction)\n",
        "        break"
      ],
      "metadata": {
        "colab": {
          "base_uri": "https://localhost:8080/",
          "height": 307
        },
        "id": "_LABWG46S_0L",
        "outputId": "f82ccdd3-8037-4fbd-b0ca-b8542f2a99ea"
      },
      "execution_count": 35,
      "outputs": [
        {
          "output_type": "display_data",
          "data": {
            "text/plain": [
              "<Figure size 800x300 with 10 Axes>"
            ],
            "image/png": "[encoded data removed]"
          },
          "metadata": {}
        }
      ]
    },
    {
      "cell_type": "markdown",
      "metadata": {
        "id": "PQXYIXjoYY8F"
      },
      "source": [
        "Давайте попробуем проделать для VAE то же, что и с обычным автоэнкодером -- подсунуть decoder'у из VAE случайные векторы из нормального распределения и посмотреть, какие картинки получаются:"
      ]
    },
    {
      "cell_type": "code",
      "source": [
        "mu = torch.tensor(np.array([np.random.normal(0, 1, latent_features) for i in range(10)])).float().to(device)"
      ],
      "metadata": {
        "id": "-Ao8uSsCU1Jx"
      },
      "execution_count": 72,
      "outputs": []
    },
    {
      "cell_type": "code",
      "source": [
        "# в режиме eval log_var не учитывается, аоэтому инициализируем переменную случайными числами\n",
        "log_var = torch.tensor(np.random.rand(10, latent_features)).float().to(device)"
      ],
      "metadata": {
        "id": "cNe9ki83ZGpN"
      },
      "execution_count": 73,
      "outputs": []
    },
    {
      "cell_type": "code",
      "source": [
        "def show_pictures(pictures):\n",
        "    rows = ceil(len(pictures)/5)\n",
        "    fig, axes = plt.subplots(rows, 5, figsize=(15, 3*rows))\n",
        "    axes = axes.flatten()\n",
        "    for i, photo in enumerate(pictures):\n",
        "        photo = photo.view(28, 28)\n",
        "        photo = photo.detach().cpu()\n",
        "        axes[i].imshow(photo, cmap='gray')\n",
        "        axes[i].axis('off')\n",
        "\n",
        "    plt.tight_layout()\n",
        "    plt.show()"
      ],
      "metadata": {
        "id": "7BfkL91HWwPO"
      },
      "execution_count": 82,
      "outputs": []
    },
    {
      "cell_type": "code",
      "source": [
        "generated_pictures = autoencoder.decode(mu, log_var)\n",
        "show_pictures(generated_pictures)\n"
      ],
      "metadata": {
        "colab": {
          "base_uri": "https://localhost:8080/",
          "height": 439
        },
        "id": "POIj9MXQVWau",
        "outputId": "967ff0b7-9dd1-4f66-a8dd-593e03a12edf"
      },
      "execution_count": 83,
      "outputs": [
        {
          "output_type": "display_data",
          "data": {
            "text/plain": [
              "<Figure size 1500x600 with 10 Axes>"
            ],
            "image/png": "[encoded data removed]"
          },
          "metadata": {}
        }
      ]
    }
  ]
}