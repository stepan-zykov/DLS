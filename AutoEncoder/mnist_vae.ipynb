{
  "nbformat": 4,
  "nbformat_minor": 0,
  "metadata": {
    "colab": {
      "provenance": [],
      "gpuType": "T4",
      "authorship_tag": "ABX9TyPvKaJ5BCzgChwY1nRn4G7B",
      "include_colab_link": true
    },
    "kernelspec": {
      "name": "python3",
      "display_name": "Python 3"
    },
    "language_info": {
      "name": "python"
    },
    "widgets": {
      "application/vnd.jupyter.widget-state+json": {
        "f98a98c1d4bd4e7cba3e80a1fb851d4d": {
          "model_module": "@jupyter-widgets/controls",
          "model_name": "HBoxModel",
          "model_module_version": "1.5.0",
          "state": {
            "_dom_classes": [],
            "_model_module": "@jupyter-widgets/controls",
            "_model_module_version": "1.5.0",
            "_model_name": "HBoxModel",
            "_view_count": null,
            "_view_module": "@jupyter-widgets/controls",
            "_view_module_version": "1.5.0",
            "_view_name": "HBoxView",
            "box_style": "",
            "children": [
              "IPY_MODEL_52439bd905154486b6b1364dc1438e9d",
              "IPY_MODEL_603e362fefb64e3bae5e56387e1f8efc",
              "IPY_MODEL_023a35ba8da6471cbddf1f48322451f7"
            ],
            "layout": "IPY_MODEL_4fe9ab1128e54b139d41f9ad1998145a"
          }
        },
        "52439bd905154486b6b1364dc1438e9d": {
          "model_module": "@jupyter-widgets/controls",
          "model_name": "HTMLModel",
          "model_module_version": "1.5.0",
          "state": {
            "_dom_classes": [],
            "_model_module": "@jupyter-widgets/controls",
            "_model_module_version": "1.5.0",
            "_model_name": "HTMLModel",
            "_view_count": null,
            "_view_module": "@jupyter-widgets/controls",
            "_view_module_version": "1.5.0",
            "_view_name": "HTMLView",
            "description": "",
            "description_tooltip": null,
            "layout": "IPY_MODEL_84528e123b474e8a98360f416c6e08b5",
            "placeholder": "​",
            "style": "IPY_MODEL_9807f378948a4bac9ef7d19e8603ab38",
            "value": "100%"
          }
        },
        "603e362fefb64e3bae5e56387e1f8efc": {
          "model_module": "@jupyter-widgets/controls",
          "model_name": "FloatProgressModel",
          "model_module_version": "1.5.0",
          "state": {
            "_dom_classes": [],
            "_model_module": "@jupyter-widgets/controls",
            "_model_module_version": "1.5.0",
            "_model_name": "FloatProgressModel",
            "_view_count": null,
            "_view_module": "@jupyter-widgets/controls",
            "_view_module_version": "1.5.0",
            "_view_name": "ProgressView",
            "bar_style": "success",
            "description": "",
            "description_tooltip": null,
            "layout": "IPY_MODEL_5c9baffdae5448fd97f3ce86933bc365",
            "max": 10,
            "min": 0,
            "orientation": "horizontal",
            "style": "IPY_MODEL_94b3b5a3b71c47a686fa60feaeaa69fa",
            "value": 10
          }
        },
        "023a35ba8da6471cbddf1f48322451f7": {
          "model_module": "@jupyter-widgets/controls",
          "model_name": "HTMLModel",
          "model_module_version": "1.5.0",
          "state": {
            "_dom_classes": [],
            "_model_module": "@jupyter-widgets/controls",
            "_model_module_version": "1.5.0",
            "_model_name": "HTMLModel",
            "_view_count": null,
            "_view_module": "@jupyter-widgets/controls",
            "_view_module_version": "1.5.0",
            "_view_name": "HTMLView",
            "description": "",
            "description_tooltip": null,
            "layout": "IPY_MODEL_3b5cd6f8d22c4d049408c67df424eb61",
            "placeholder": "​",
            "style": "IPY_MODEL_0016d24112554b7ba9f608bb81a6cd1c",
            "value": " 10/10 [02:23&lt;00:00, 13.84s/it]"
          }
        },
        "4fe9ab1128e54b139d41f9ad1998145a": {
          "model_module": "@jupyter-widgets/base",
          "model_name": "LayoutModel",
          "model_module_version": "1.2.0",
          "state": {
            "_model_module": "@jupyter-widgets/base",
            "_model_module_version": "1.2.0",
            "_model_name": "LayoutModel",
            "_view_count": null,
            "_view_module": "@jupyter-widgets/base",
            "_view_module_version": "1.2.0",
            "_view_name": "LayoutView",
            "align_content": null,
            "align_items": null,
            "align_self": null,
            "border": null,
            "bottom": null,
            "display": null,
            "flex": null,
            "flex_flow": null,
            "grid_area": null,
            "grid_auto_columns": null,
            "grid_auto_flow": null,
            "grid_auto_rows": null,
            "grid_column": null,
            "grid_gap": null,
            "grid_row": null,
            "grid_template_areas": null,
            "grid_template_columns": null,
            "grid_template_rows": null,
            "height": null,
            "justify_content": null,
            "justify_items": null,
            "left": null,
            "margin": null,
            "max_height": null,
            "max_width": null,
            "min_height": null,
            "min_width": null,
            "object_fit": null,
            "object_position": null,
            "order": null,
            "overflow": null,
            "overflow_x": null,
            "overflow_y": null,
            "padding": null,
            "right": null,
            "top": null,
            "visibility": null,
            "width": null
          }
        },
        "84528e123b474e8a98360f416c6e08b5": {
          "model_module": "@jupyter-widgets/base",
          "model_name": "LayoutModel",
          "model_module_version": "1.2.0",
          "state": {
            "_model_module": "@jupyter-widgets/base",
            "_model_module_version": "1.2.0",
            "_model_name": "LayoutModel",
            "_view_count": null,
            "_view_module": "@jupyter-widgets/base",
            "_view_module_version": "1.2.0",
            "_view_name": "LayoutView",
            "align_content": null,
            "align_items": null,
            "align_self": null,
            "border": null,
            "bottom": null,
            "display": null,
            "flex": null,
            "flex_flow": null,
            "grid_area": null,
            "grid_auto_columns": null,
            "grid_auto_flow": null,
            "grid_auto_rows": null,
            "grid_column": null,
            "grid_gap": null,
            "grid_row": null,
            "grid_template_areas": null,
            "grid_template_columns": null,
            "grid_template_rows": null,
            "height": null,
            "justify_content": null,
            "justify_items": null,
            "left": null,
            "margin": null,
            "max_height": null,
            "max_width": null,
            "min_height": null,
            "min_width": null,
            "object_fit": null,
            "object_position": null,
            "order": null,
            "overflow": null,
            "overflow_x": null,
            "overflow_y": null,
            "padding": null,
            "right": null,
            "top": null,
            "visibility": null,
            "width": null
          }
        },
        "9807f378948a4bac9ef7d19e8603ab38": {
          "model_module": "@jupyter-widgets/controls",
          "model_name": "DescriptionStyleModel",
          "model_module_version": "1.5.0",
          "state": {
            "_model_module": "@jupyter-widgets/controls",
            "_model_module_version": "1.5.0",
            "_model_name": "DescriptionStyleModel",
            "_view_count": null,
            "_view_module": "@jupyter-widgets/base",
            "_view_module_version": "1.2.0",
            "_view_name": "StyleView",
            "description_width": ""
          }
        },
        "5c9baffdae5448fd97f3ce86933bc365": {
          "model_module": "@jupyter-widgets/base",
          "model_name": "LayoutModel",
          "model_module_version": "1.2.0",
          "state": {
            "_model_module": "@jupyter-widgets/base",
            "_model_module_version": "1.2.0",
            "_model_name": "LayoutModel",
            "_view_count": null,
            "_view_module": "@jupyter-widgets/base",
            "_view_module_version": "1.2.0",
            "_view_name": "LayoutView",
            "align_content": null,
            "align_items": null,
            "align_self": null,
            "border": null,
            "bottom": null,
            "display": null,
            "flex": null,
            "flex_flow": null,
            "grid_area": null,
            "grid_auto_columns": null,
            "grid_auto_flow": null,
            "grid_auto_rows": null,
            "grid_column": null,
            "grid_gap": null,
            "grid_row": null,
            "grid_template_areas": null,
            "grid_template_columns": null,
            "grid_template_rows": null,
            "height": null,
            "justify_content": null,
            "justify_items": null,
            "left": null,
            "margin": null,
            "max_height": null,
            "max_width": null,
            "min_height": null,
            "min_width": null,
            "object_fit": null,
            "object_position": null,
            "order": null,
            "overflow": null,
            "overflow_x": null,
            "overflow_y": null,
            "padding": null,
            "right": null,
            "top": null,
            "visibility": null,
            "width": null
          }
        },
        "94b3b5a3b71c47a686fa60feaeaa69fa": {
          "model_module": "@jupyter-widgets/controls",
          "model_name": "ProgressStyleModel",
          "model_module_version": "1.5.0",
          "state": {
            "_model_module": "@jupyter-widgets/controls",
            "_model_module_version": "1.5.0",
            "_model_name": "ProgressStyleModel",
            "_view_count": null,
            "_view_module": "@jupyter-widgets/base",
            "_view_module_version": "1.2.0",
            "_view_name": "StyleView",
            "bar_color": null,
            "description_width": ""
          }
        },
        "3b5cd6f8d22c4d049408c67df424eb61": {
          "model_module": "@jupyter-widgets/base",
          "model_name": "LayoutModel",
          "model_module_version": "1.2.0",
          "state": {
            "_model_module": "@jupyter-widgets/base",
            "_model_module_version": "1.2.0",
            "_model_name": "LayoutModel",
            "_view_count": null,
            "_view_module": "@jupyter-widgets/base",
            "_view_module_version": "1.2.0",
            "_view_name": "LayoutView",
            "align_content": null,
            "align_items": null,
            "align_self": null,
            "border": null,
            "bottom": null,
            "display": null,
            "flex": null,
            "flex_flow": null,
            "grid_area": null,
            "grid_auto_columns": null,
            "grid_auto_flow": null,
            "grid_auto_rows": null,
            "grid_column": null,
            "grid_gap": null,
            "grid_row": null,
            "grid_template_areas": null,
            "grid_template_columns": null,
            "grid_template_rows": null,
            "height": null,
            "justify_content": null,
            "justify_items": null,
            "left": null,
            "margin": null,
            "max_height": null,
            "max_width": null,
            "min_height": null,
            "min_width": null,
            "object_fit": null,
            "object_position": null,
            "order": null,
            "overflow": null,
            "overflow_x": null,
            "overflow_y": null,
            "padding": null,
            "right": null,
            "top": null,
            "visibility": null,
            "width": null
          }
        },
        "0016d24112554b7ba9f608bb81a6cd1c": {
          "model_module": "@jupyter-widgets/controls",
          "model_name": "DescriptionStyleModel",
          "model_module_version": "1.5.0",
          "state": {
            "_model_module": "@jupyter-widgets/controls",
            "_model_module_version": "1.5.0",
            "_model_name": "DescriptionStyleModel",
            "_view_count": null,
            "_view_module": "@jupyter-widgets/base",
            "_view_module_version": "1.2.0",
            "_view_name": "StyleView",
            "description_width": ""
          }
        }
      }
    },
    "accelerator": "GPU"
  },
  "cells": [
    {
      "cell_type": "markdown",
      "metadata": {
        "id": "view-in-github",
        "colab_type": "text"
      },
      "source": [
        "<a href=\"https://colab.research.google.com/github/stepan-zykov/DLS/blob/main/AutoEncoder/mnist_vae.ipynb\" target=\"_parent\"><img src=\"https://colab.research.google.com/assets/colab-badge.svg\" alt=\"Open In Colab\"/></a>"
      ]
    },
    {
      "cell_type": "code",
      "execution_count": 1,
      "metadata": {
        "id": "VjsUwugLjbm-"
      },
      "outputs": [],
      "source": [
        "import numpy as np\n",
        "from torch.autograd import Variable\n",
        "from torchvision import datasets, transforms\n",
        "import torch.nn as nn\n",
        "import torch.nn.functional as F\n",
        "import torch.optim as optim\n",
        "import torch.utils.data as data_utils\n",
        "import torch\n",
        "import matplotlib.pyplot as plt\n",
        "\n",
        "import os\n",
        "import pandas as pd\n",
        "import skimage.io\n",
        "from skimage.transform import resize\n",
        "\n",
        "\n",
        "%matplotlib inline"
      ]
    },
    {
      "cell_type": "code",
      "source": [
        "from sklearn.model_selection import train_test_split\n",
        "from tqdm.notebook import tqdm_notebook\n",
        "from matplotlib.colors import Normalize\n",
        "import IPython.display as display\n",
        "from math import ceil"
      ],
      "metadata": {
        "id": "PGT-Td3kjk2R"
      },
      "execution_count": 2,
      "outputs": []
    },
    {
      "cell_type": "code",
      "source": [
        "from google.colab import drive\n",
        "drive.mount('/content/drive/')"
      ],
      "metadata": {
        "colab": {
          "base_uri": "https://localhost:8080/"
        },
        "id": "uieIlmA-jqh8",
        "outputId": "e4b9b65c-c7e9-415e-83f6-eece1cb7abae"
      },
      "execution_count": 3,
      "outputs": [
        {
          "output_type": "stream",
          "name": "stdout",
          "text": [
            "Mounted at /content/drive/\n"
          ]
        }
      ]
    },
    {
      "cell_type": "code",
      "source": [
        "os.chdir('/content/drive/MyDrive/DLS/HW/HW7_AutoEncoder/')"
      ],
      "metadata": {
        "id": "Eel8XrnsjsVb"
      },
      "execution_count": 4,
      "outputs": []
    },
    {
      "cell_type": "code",
      "source": [
        "os.getcwd()"
      ],
      "metadata": {
        "colab": {
          "base_uri": "https://localhost:8080/",
          "height": 35
        },
        "id": "HBVqkxc4jyTA",
        "outputId": "cb95a357-efba-4c47-cd12-c0ab3e4ecf1b"
      },
      "execution_count": 5,
      "outputs": [
        {
          "output_type": "execute_result",
          "data": {
            "text/plain": [
              "'/content/drive/MyDrive/DLS/HW/HW7_AutoEncoder'"
            ],
            "application/vnd.google.colaboratory.intrinsic+json": {
              "type": "string"
            }
          },
          "metadata": {},
          "execution_count": 5
        }
      ]
    },
    {
      "cell_type": "markdown",
      "source": [
        "Загружаем датасет MNIST, преобразуем данные в PyTorch тензоры"
      ],
      "metadata": {
        "id": "t3RTNscLbNps"
      }
    },
    {
      "cell_type": "code",
      "source": [
        "batch_size = 60\n",
        "# MNIST Dataset\n",
        "train_dataset = datasets.MNIST(root='./mnist_data/', train=True, transform=transforms.ToTensor(), download=True)\n",
        "test_dataset = datasets.MNIST(root='./mnist_data/', train=False, transform=transforms.ToTensor(), download=False)\n",
        "\n",
        "# Data Loader (Input Pipeline)\n",
        "train_loader = torch.utils.data.DataLoader(dataset=train_dataset, batch_size=batch_size, shuffle=True)\n",
        "val_loader = torch.utils.data.DataLoader(dataset=test_dataset, batch_size=batch_size, shuffle=False)"
      ],
      "metadata": {
        "id": "4ViyYdpCj2rg"
      },
      "execution_count": 6,
      "outputs": []
    },
    {
      "cell_type": "code",
      "source": [
        "def compare_pictures_vae(gt, rec):\n",
        "    \"\"\"\n",
        "    Функция получает на вход ихсодные картинки и восстановленные картинки, вытянутые в векторы.\n",
        "    Выводит соответствующие изображения, одно под другим\n",
        "    \"\"\"\n",
        "    rec = rec.view(-1, 28, 28).cpu().detach().numpy()\n",
        "    gt = gt.view(-1, 28, 28).cpu().numpy()\n",
        "    fig, axes = plt.subplots(2, 5, figsize=(8, 3))\n",
        "    axes = axes.flatten()\n",
        "    for i, photo in enumerate(np.concatenate([gt, rec])):\n",
        "        photo = np.clip(photo, 0, 1)\n",
        "        axes[i].imshow(photo, cmap='gray')\n",
        "        axes[i].axis('off')\n",
        "\n",
        "    plt.tight_layout()\n",
        "    plt.show()"
      ],
      "metadata": {
        "id": "dyMHYQOGkJUD"
      },
      "execution_count": 7,
      "outputs": []
    },
    {
      "cell_type": "code",
      "source": [
        "def losses_chart(train_losses, val_losses):\n",
        "    \"\"\"\n",
        "    Функция получает списки лоссов на трейне и валидации и отрисовывает графики\n",
        "    \"\"\"\n",
        "    epoch = len(train_losses)\n",
        "    plt.plot(range(1, epoch + 1), train_losses, label = 'Training Loss')\n",
        "    plt.plot(range(1, epoch + 1), val_losses, label = 'Validation Loss')\n",
        "    plt.title('Training and Validation Loss Over Epochs')\n",
        "    plt.xlabel('Epoch')\n",
        "    plt.ylabel('Loss')\n",
        "    plt.legend()\n",
        "    plt.show()"
      ],
      "metadata": {
        "id": "BuWTPYcvjy20"
      },
      "execution_count": 8,
      "outputs": []
    },
    {
      "cell_type": "code",
      "source": [
        "# число признаков в латентном слое\n",
        "latent_features = 20"
      ],
      "metadata": {
        "id": "3XbSqNLpj9T6"
      },
      "execution_count": 9,
      "outputs": []
    },
    {
      "cell_type": "code",
      "source": [
        "class VAE(nn.Module):\n",
        "    def __init__(self):\n",
        "        super(VAE, self).__init__()\n",
        "\n",
        "        self.flatten = nn.Flatten()\n",
        "\n",
        "        self.encoder = nn.Sequential(\n",
        "            nn.Linear(in_features=28*28, out_features = 256),\n",
        "            nn.ReLU(),\n",
        "            nn.BatchNorm1d(256),\n",
        "            nn.Dropout(0.3),\n",
        "\n",
        "            nn.Linear(in_features=256, out_features = 128),\n",
        "            nn.ReLU(),\n",
        "            nn.BatchNorm1d(128),\n",
        "            nn.Dropout(0.3),\n",
        "\n",
        "            nn.Linear(128, latent_features*2))\n",
        "\n",
        "        self.decoder = nn.Sequential(\n",
        "            nn.Linear(latent_features, 128),\n",
        "            nn.ReLU(),\n",
        "            nn.BatchNorm1d(128),\n",
        "            nn.Dropout(0.3),\n",
        "\n",
        "            nn.Linear(128, 256),\n",
        "            nn.ReLU(),\n",
        "            nn.BatchNorm1d(256),\n",
        "            nn.Dropout(0.3),\n",
        "\n",
        "            nn.Linear(256, 28*28),\n",
        "            nn.Sigmoid()\n",
        "        )\n",
        "\n",
        "    def encode(self, x):\n",
        "        x = self.flatten(x).float()\n",
        "        x = self.encoder(x).view(-1, 2, latent_features)\n",
        "        mu = x[:, 0, :]\n",
        "        log_var = x[:, 1, :]\n",
        "        return mu, log_var\n",
        "\n",
        "    def gaussian_sampler(self, mu, log_var):\n",
        "        if self.training:\n",
        "            std = torch.exp(0.5 * log_var)\n",
        "            eps = torch.randn_like(std)\n",
        "            sample = mu + (eps * std)\n",
        "            return sample\n",
        "        else:\n",
        "            # на инференсе возвращаем не случайный вектор из нормального распределения, а центральный -- mu.\n",
        "            # на инференсе выход автоэнкодера должен быть детерминирован.\n",
        "            return mu\n",
        "\n",
        "    def decode(self, mu, log_var):\n",
        "        z = self.gaussian_sampler(mu, log_var)\n",
        "        reconstruction = self.decoder(z)\n",
        "        return reconstruction\n",
        "\n",
        "    def forward(self, x):\n",
        "        mu, log_var = self.encode(x)\n",
        "        reconstruction = self.decode(mu, log_var)\n",
        "        return mu, log_var, reconstruction"
      ],
      "metadata": {
        "id": "Cu-Pu1mmj_hP"
      },
      "execution_count": 10,
      "outputs": []
    },
    {
      "cell_type": "code",
      "source": [
        "def KL_divergence(mu, log_var):\n",
        "    \"\"\"\n",
        "    часть функции потерь, которая отвечает за \"близость\" латентных представлений разных людей\n",
        "    \"\"\"\n",
        "    loss = -0.5 * torch.sum(1 + log_var - mu.pow(2) - log_var.exp())\n",
        "    return loss\n",
        "\n",
        "def log_likelihood(x, reconstruction):\n",
        "    \"\"\"\n",
        "    часть функции потерь, которая отвечает за качество реконструкции (как mse в обычном autoencoder)\n",
        "    \"\"\"\n",
        "    loss = nn.BCELoss(reduction='sum')\n",
        "    return loss(reconstruction, x)\n",
        "\n",
        "def loss_vae(x, mu, log_var, reconstruction):\n",
        "    return (KL_divergence(mu, log_var) + log_likelihood(x, reconstruction))/2/28/28"
      ],
      "metadata": {
        "id": "8Ymtud43kCW6"
      },
      "execution_count": 12,
      "outputs": []
    },
    {
      "cell_type": "code",
      "source": [
        "device = 'cuda:0' if torch.cuda.is_available() else 'cpu'\n",
        "\n",
        "criterion = loss_vae\n",
        "\n",
        "autoencoder = VAE().to(device)\n",
        "\n",
        "optimizer = torch.optim.Adam(autoencoder.parameters())"
      ],
      "metadata": {
        "id": "H52-sE5YkEY_"
      },
      "execution_count": 13,
      "outputs": []
    },
    {
      "cell_type": "code",
      "source": [
        "def train(model, optimizer, loss_fn, train_loader, val_loader, n_epochs=10):\n",
        "    device = 'cuda:0' if torch.cuda.is_available() else 'cpu'\n",
        "    model = model.to(device)\n",
        "    train_losses, val_losses = [], []\n",
        "    for epoch in tqdm_notebook(range(n_epochs)):\n",
        "        model.train()\n",
        "        train_losses_per_epoch = []\n",
        "        for i, (X_batch, _ ) in enumerate(train_loader):\n",
        "            X_batch = X_batch.float().to(device)\n",
        "            optimizer.zero_grad()\n",
        "            mu, log_var, reconstruction = model(X_batch)\n",
        "            loss = loss_fn(X_batch.view(-1, 28*28), mu, log_var, reconstruction) # x, mu, log_var, reconstruction\n",
        "            loss.backward()\n",
        "            optimizer.step()\n",
        "            train_losses_per_epoch.append(loss.item())\n",
        "        train_losses.append(np.mean(train_losses_per_epoch))\n",
        "\n",
        "        model.eval()\n",
        "        val_losses_per_epoch = []\n",
        "        with torch.no_grad():\n",
        "          for X_batch, _ in val_loader:\n",
        "              X_batch = X_batch.float().to(device)\n",
        "              mu, log_var, reconstruction = model(X_batch)\n",
        "              loss = loss_fn(X_batch.view(-1, 28*28), mu, log_var, reconstruction)\n",
        "              val_losses_per_epoch.append(loss.item())\n",
        "        val_losses.append(np.mean(val_losses_per_epoch))\n",
        "        display.clear_output(wait=True) # clear previous output\n",
        "        for i in range(0, 11, 5):\n",
        "            compare_pictures_vae(X_batch[i:i+5], reconstruction[i:i+5])\n",
        "        losses_chart(train_losses, val_losses)\n",
        "        print(f\"Epoch [{epoch + 1}/{n_epochs}],\",\n",
        "              f\"\\nTraining loss: {np.mean(train_losses_per_epoch):.4f},\",\n",
        "              f\"\\nValidation loss: {np.mean(val_losses_per_epoch):.4f}\")\n",
        "\n",
        "    return train_losses, val_losses"
      ],
      "metadata": {
        "id": "FhIEFmJjkG2v"
      },
      "execution_count": 14,
      "outputs": []
    },
    {
      "cell_type": "code",
      "source": [
        "train_losses, val_losses = train(autoencoder, optimizer, criterion, train_loader, val_loader, 10)"
      ],
      "metadata": {
        "colab": {
          "base_uri": "https://localhost:8080/",
          "height": 1000,
          "referenced_widgets": [
            "f98a98c1d4bd4e7cba3e80a1fb851d4d",
            "52439bd905154486b6b1364dc1438e9d",
            "603e362fefb64e3bae5e56387e1f8efc",
            "023a35ba8da6471cbddf1f48322451f7",
            "4fe9ab1128e54b139d41f9ad1998145a",
            "84528e123b474e8a98360f416c6e08b5",
            "9807f378948a4bac9ef7d19e8603ab38",
            "5c9baffdae5448fd97f3ce86933bc365",
            "94b3b5a3b71c47a686fa60feaeaa69fa",
            "3b5cd6f8d22c4d049408c67df424eb61",
            "0016d24112554b7ba9f608bb81a6cd1c"
          ]
        },
        "id": "_4zmPm-JkNkF",
        "outputId": "ffd94d45-6a2a-4b32-d5db-1e588276cb54"
      },
      "execution_count": 16,
      "outputs": [
        {
          "output_type": "display_data",
          "data": {
            "text/plain": [
              "<Figure size 800x300 with 10 Axes>"
            ],
            "image/png": "[encoded data removed]"
          },
          "metadata": {}
        },
        {
          "output_type": "display_data",
          "data": {
            "text/plain": [
              "<Figure size 800x300 with 10 Axes>"
            ],
            "image/png": "[encoded data removed]"
          },
          "metadata": {}
        },
        {
          "output_type": "display_data",
          "data": {
            "text/plain": [
              "<Figure size 800x300 with 10 Axes>"
            ],
            "image/png": "[encoded data removed]"
          },
          "metadata": {}
        },
        {
          "output_type": "display_data",
          "data": {
            "text/plain": [
              "<Figure size 640x480 with 1 Axes>"
            ],
            "image/png": "[encoded data removed]"
          },
          "metadata": {}
        },
        {
          "output_type": "stream",
          "name": "stdout",
          "text": [
            "Epoch [10/10], \n",
            "Training loss: 5.1798, \n",
            "Validation loss: 4.3041\n"
          ]
        }
      ]
    },
    {
      "cell_type": "markdown",
      "metadata": {
        "scrolled": true,
        "id": "SkxW_8fkYY8B"
      },
      "source": [
        "Давайте посмотрим, как наш тренированный VAE кодирует и восстанавливает картинки:"
      ]
    },
    {
      "cell_type": "code",
      "source": [
        "autoencoder.eval()\n",
        "with torch.no_grad():\n",
        "    for X_batch, y in val_loader:\n",
        "        X_batch = X_batch[:5]\n",
        "        X_batch = X_batch.float().to(device)\n",
        "        mu, log_var, reconstruction = autoencoder(X_batch)\n",
        "        compare_pictures_vae(X_batch, reconstruction)\n",
        "        break"
      ],
      "metadata": {
        "colab": {
          "base_uri": "https://localhost:8080/",
          "height": 307
        },
        "id": "_LABWG46S_0L",
        "outputId": "fe6af0a9-1f96-4ae5-e5a3-4347d7a06321"
      },
      "execution_count": 17,
      "outputs": [
        {
          "output_type": "display_data",
          "data": {
            "text/plain": [
              "<Figure size 800x300 with 10 Axes>"
            ],
            "image/png": "[encoded data removed]"
          },
          "metadata": {}
        }
      ]
    },
    {
      "cell_type": "markdown",
      "metadata": {
        "id": "PQXYIXjoYY8F"
      },
      "source": [
        "Давайте попробуем проделать для VAE то же, что и с обычным автоэнкодером -- подсунуть decoder'у из VAE случайные векторы из нормального распределения и посмотреть, какие картинки получаются:"
      ]
    },
    {
      "cell_type": "code",
      "source": [
        "mu = torch.tensor(np.array([np.random.normal(0, 1, latent_features) for i in range(10)])).float().to(device)"
      ],
      "metadata": {
        "id": "-Ao8uSsCU1Jx"
      },
      "execution_count": 18,
      "outputs": []
    },
    {
      "cell_type": "code",
      "source": [
        "# в режиме eval log_var не учитывается, аоэтому инициализируем переменную случайными числами\n",
        "log_var = torch.tensor(np.random.rand(10, latent_features)).float().to(device)"
      ],
      "metadata": {
        "id": "cNe9ki83ZGpN"
      },
      "execution_count": 19,
      "outputs": []
    },
    {
      "cell_type": "code",
      "source": [
        "def show_pictures(pictures):\n",
        "    rows = ceil(len(pictures)/5)\n",
        "    fig, axes = plt.subplots(rows, 5, figsize=(15, 3*rows))\n",
        "    axes = axes.flatten()\n",
        "    for i, photo in enumerate(pictures):\n",
        "        photo = photo.view(28, 28)\n",
        "        photo = photo.detach().cpu()\n",
        "        axes[i].imshow(photo, cmap='gray')\n",
        "        axes[i].axis('off')\n",
        "\n",
        "    plt.tight_layout()\n",
        "    plt.show()"
      ],
      "metadata": {
        "id": "7BfkL91HWwPO"
      },
      "execution_count": 20,
      "outputs": []
    },
    {
      "cell_type": "code",
      "source": [
        "generated_pictures = autoencoder.decode(mu, log_var)\n",
        "show_pictures(generated_pictures)\n"
      ],
      "metadata": {
        "colab": {
          "base_uri": "https://localhost:8080/",
          "height": 439
        },
        "id": "POIj9MXQVWau",
        "outputId": "785f15bf-2663-43b2-cd24-8a8f93e09bbc"
      },
      "execution_count": 21,
      "outputs": [
        {
          "output_type": "display_data",
          "data": {
            "text/plain": [
              "<Figure size 1500x600 with 10 Axes>"
            ],
            "image/png": "[encoded data removed]"
          },
          "metadata": {}
        }
      ]
    },
    {
      "cell_type": "markdown",
      "metadata": {
        "id": "Nzt-ENxCr6ul"
      },
      "source": [
        "## 2.2. Latent Representation (2 балла)"
      ]
    },
    {
      "cell_type": "markdown",
      "metadata": {
        "id": "uIWy670xr-Uv"
      },
      "source": [
        "Давайте посмотрим, как латентные векторы картинок лиц выглядят в пространстве.\n",
        "Ваша задача -- изобразить латентные векторы картинок точками в двумерном просторанстве.\n",
        "\n",
        "Это позволит оценить, насколько плотно распределены латентные векторы изображений цифр в пространстве.\n",
        "\n",
        "Плюс давайте сделаем такую вещь: покрасим точки, которые соответствуют картинкам каждой цифры, в свой отдельный цвет\n",
        "\n",
        "Подсказка: красить -- это просто =) У plt.scatter есть параметр c (color), см. в документации.\n",
        "\n",
        "\n",
        "Итак, план:\n",
        "1. Получить латентные представления картинок тестового датасета\n",
        "2. С помощтю `TSNE` (есть в `sklearn`) сжать эти представления до размерности 2 (чтобы можно было их визуализировать точками в пространстве)\n",
        "3. Визуализировать полученные двумерные представления с помощью `matplotlib.scatter`, покрасить разными цветами точки, соответствующие картинкам разных цифр."
      ]
    },
    {
      "cell_type": "code",
      "source": [
        "autoencoder.eval()\n",
        "all_latent = np.empty((0, 20))\n",
        "with torch.no_grad():\n",
        "    for X_batch, y in val_loader:\n",
        "        X_batch = X_batch.float().to(device)\n",
        "        mu, log_var, reconstruction = autoencoder(X_batch)\n",
        "        z = autoencoder.gaussian_sampler(mu, log_var).detach().cpu().numpy()\n",
        "        all_latent = np.concatenate((all_latent, z), axis=0)"
      ],
      "metadata": {
        "id": "S0XTgMvvNie-"
      },
      "execution_count": 82,
      "outputs": []
    },
    {
      "cell_type": "code",
      "source": [
        "all_latent.shape"
      ],
      "metadata": {
        "colab": {
          "base_uri": "https://localhost:8080/"
        },
        "id": "yaYChIryU1eZ",
        "outputId": "691e1d9b-8ac1-46a0-c6bb-732fac9a7252"
      },
      "execution_count": 83,
      "outputs": [
        {
          "output_type": "execute_result",
          "data": {
            "text/plain": [
              "(10000, 20)"
            ]
          },
          "metadata": {},
          "execution_count": 83
        }
      ]
    },
    {
      "cell_type": "code",
      "source": [
        "from sklearn.manifold import TSNE"
      ],
      "metadata": {
        "id": "g7bXnoihV6Rv"
      },
      "execution_count": 84,
      "outputs": []
    },
    {
      "cell_type": "code",
      "source": [
        "latent_two_dim = TSNE(n_components=2, learning_rate='auto', init='random', perplexity=3).fit_transform(all_latent)"
      ],
      "metadata": {
        "id": "G5FIR1EgV26b"
      },
      "execution_count": 85,
      "outputs": []
    },
    {
      "cell_type": "code",
      "source": [
        "latent_two_dim.shape"
      ],
      "metadata": {
        "colab": {
          "base_uri": "https://localhost:8080/"
        },
        "id": "3BlR7o5DWDKK",
        "outputId": "6440420b-3d3d-410e-f922-f0fd4111b9eb"
      },
      "execution_count": 86,
      "outputs": [
        {
          "output_type": "execute_result",
          "data": {
            "text/plain": [
              "(10000, 2)"
            ]
          },
          "metadata": {},
          "execution_count": 86
        }
      ]
    },
    {
      "cell_type": "code",
      "source": [
        "plt.scatter(latent_two_dim[:,0], latent_two_dim[:,1])"
      ],
      "metadata": {
        "colab": {
          "base_uri": "https://localhost:8080/",
          "height": 447
        },
        "id": "4s-6ndnSXFJ9",
        "outputId": "cb74313d-1ee8-4b0e-ba28-31739f3ae05a"
      },
      "execution_count": 88,
      "outputs": [
        {
          "output_type": "execute_result",
          "data": {
            "text/plain": [
              "<matplotlib.collections.PathCollection at 0x7d0d96252110>"
            ]
          },
          "metadata": {},
          "execution_count": 88
        },
        {
          "output_type": "display_data",
          "data": {
            "text/plain": [
              "<Figure size 640x480 with 1 Axes>"
            ],
            "image/png": "[encoded data removed]"
          },
          "metadata": {}
        }
      ]
    },
    {
      "cell_type": "markdown",
      "source": [
        "--------------------------------------------------------------------------------"
      ],
      "metadata": {
        "id": "DvInQpfHXkMs"
      }
    },
    {
      "cell_type": "code",
      "source": [
        "autoencoder.eval()\n",
        "all_latent = np.empty((0, 20))\n",
        "classes = np.array([])\n",
        "with torch.no_grad():\n",
        "    for X_batch, y in val_loader:\n",
        "        X_batch = X_batch.float().to(device)\n",
        "        mu, log_var, reconstruction = autoencoder(X_batch)\n",
        "        z = autoencoder.gaussian_sampler(mu, log_var).detach().cpu().numpy()\n",
        "        all_latent = np.concatenate((all_latent, z), axis=0)\n",
        "        y = y.detach().cpu().numpy()\n",
        "        classes = np.concatenate((classes, y), axis=0)"
      ],
      "metadata": {
        "id": "5aOK9XeBXqs0"
      },
      "execution_count": 112,
      "outputs": []
    },
    {
      "cell_type": "code",
      "source": [
        "from sklearn.manifold import TSNE"
      ],
      "metadata": {
        "id": "ehO5bSiAXqs3"
      },
      "execution_count": null,
      "outputs": []
    },
    {
      "cell_type": "code",
      "source": [
        "latent_two_dim = TSNE(n_components=2, learning_rate='auto', init='random', perplexity=3).fit_transform(all_latent)"
      ],
      "metadata": {
        "id": "XjOCRhIxXqs4"
      },
      "execution_count": null,
      "outputs": []
    },
    {
      "cell_type": "code",
      "source": [
        "latent_two_dim.shape"
      ],
      "metadata": {
        "colab": {
          "base_uri": "https://localhost:8080/"
        },
        "outputId": "6440420b-3d3d-410e-f922-f0fd4111b9eb",
        "id": "NkTidVBQXqs5"
      },
      "execution_count": null,
      "outputs": [
        {
          "output_type": "execute_result",
          "data": {
            "text/plain": [
              "(10000, 2)"
            ]
          },
          "metadata": {},
          "execution_count": 86
        }
      ]
    },
    {
      "cell_type": "code",
      "source": [
        "classes.shape"
      ],
      "metadata": {
        "colab": {
          "base_uri": "https://localhost:8080/"
        },
        "id": "6-ZxT5peZwhV",
        "outputId": "442c94ec-acc8-42ec-8203-36aa41d3eac9"
      },
      "execution_count": 113,
      "outputs": [
        {
          "output_type": "execute_result",
          "data": {
            "text/plain": [
              "(10000,)"
            ]
          },
          "metadata": {},
          "execution_count": 113
        }
      ]
    },
    {
      "cell_type": "code",
      "source": [
        "plt.scatter(latent_two_dim[:,0], latent_two_dim[:,1])"
      ],
      "metadata": {
        "colab": {
          "base_uri": "https://localhost:8080/",
          "height": 447
        },
        "outputId": "cb74313d-1ee8-4b0e-ba28-31739f3ae05a",
        "id": "8_eox98YXqs6"
      },
      "execution_count": null,
      "outputs": [
        {
          "output_type": "execute_result",
          "data": {
            "text/plain": [
              "<matplotlib.collections.PathCollection at 0x7d0d96252110>"
            ]
          },
          "metadata": {},
          "execution_count": 88
        },
        {
          "output_type": "display_data",
          "data": {
            "text/plain": [
              "<Figure size 640x480 with 1 Axes>"
            ],
            "image/png": "[encoded data removed]"
          },
          "metadata": {}
        }
      ]
    },
    {
      "cell_type": "code",
      "source": [
        "colors = ['r', 'g', 'b', 'c', 'm', 'y', 'k', 'orange', 'purple', 'brown']  # You can customize colors as needed\n",
        "\n",
        "# Create a scatter plot with different colors for each class\n",
        "for class_label in np.unique(classes):\n",
        "    plt.scatter(latent_two_dim[:,0][classes == class_label], latent_two_dim[:,1][classes == class_label], label=f'{int(class_label)}', c=colors[int(class_label) - 1])\n",
        "\n",
        "# Add labels and legend\n",
        "plt.xlabel('X-axis')\n",
        "plt.ylabel('Y-axis')\n",
        "plt.legend()\n",
        "\n",
        "# Show the plot\n",
        "plt.title('Scatter Plot with Different Colors for Each Class')\n",
        "plt.show()"
      ],
      "metadata": {
        "colab": {
          "base_uri": "https://localhost:8080/",
          "height": 472
        },
        "id": "5U804cTbaOsy",
        "outputId": "e93d23c0-12d0-456b-b417-67c4241b66be"
      },
      "execution_count": 117,
      "outputs": [
        {
          "output_type": "display_data",
          "data": {
            "text/plain": [
              "<Figure size 640x480 with 1 Axes>"
            ],
            "image/png": "[encoded data removed]"
          },
          "metadata": {}
        }
      ]
    },
    {
      "cell_type": "code",
      "source": [],
      "metadata": {
        "colab": {
          "base_uri": "https://localhost:8080/"
        },
        "id": "w6UuRCs0aVKI",
        "outputId": "f701dd72-879f-4d73-fa9c-a588825368c1"
      },
      "execution_count": 114,
      "outputs": [
        {
          "output_type": "execute_result",
          "data": {
            "text/plain": [
              "['#acc2d9',\n",
              " '#56ae57',\n",
              " '#b2996e',\n",
              " '#a8ff04',\n",
              " '#69d84f',\n",
              " '#894585',\n",
              " '#70b23f',\n",
              " '#d4ffff',\n",
              " '#65ab7c',\n",
              " '#952e8f',\n",
              " '#fcfc81',\n",
              " '#a5a391',\n",
              " '#388004',\n",
              " '#4c9085',\n",
              " '#5e9b8a',\n",
              " '#efb435',\n",
              " '#d99b82',\n",
              " '#0a5f38',\n",
              " '#0c06f7',\n",
              " '#61de2a',\n",
              " '#3778bf',\n",
              " '#2242c7',\n",
              " '#533cc6',\n",
              " '#9bb53c',\n",
              " '#05ffa6',\n",
              " '#1f6357',\n",
              " '#017374',\n",
              " '#0cb577',\n",
              " '#ff0789',\n",
              " '#afa88b',\n",
              " '#08787f',\n",
              " '#dd85d7',\n",
              " '#a6c875',\n",
              " '#a7ffb5',\n",
              " '#c2b709',\n",
              " '#e78ea5',\n",
              " '#966ebd',\n",
              " '#ccad60',\n",
              " '#ac86a8',\n",
              " '#947e94',\n",
              " '#983fb2',\n",
              " '#ff63e9',\n",
              " '#b2fba5',\n",
              " '#63b365',\n",
              " '#8ee53f',\n",
              " '#b7e1a1',\n",
              " '#ff6f52',\n",
              " '#bdf8a3',\n",
              " '#d3b683',\n",
              " '#fffcc4',\n",
              " '#430541',\n",
              " '#ffb2d0',\n",
              " '#997570',\n",
              " '#ad900d',\n",
              " '#c48efd',\n",
              " '#507b9c',\n",
              " '#7d7103',\n",
              " '#fffd78',\n",
              " '#da467d',\n",
              " '#410200',\n",
              " '#c9d179',\n",
              " '#fffa86',\n",
              " '#5684ae',\n",
              " '#6b7c85',\n",
              " '#6f6c0a',\n",
              " '#7e4071',\n",
              " '#009337',\n",
              " '#d0e429',\n",
              " '#fff917',\n",
              " '#1d5dec',\n",
              " '#054907',\n",
              " '#b5ce08',\n",
              " '#8fb67b',\n",
              " '#c8ffb0',\n",
              " '#fdde6c',\n",
              " '#ffdf22',\n",
              " '#a9be70',\n",
              " '#6832e3',\n",
              " '#fdb147',\n",
              " '#c7ac7d',\n",
              " '#fff39a',\n",
              " '#850e04',\n",
              " '#efc0fe',\n",
              " '#40fd14',\n",
              " '#b6c406',\n",
              " '#9dff00',\n",
              " '#3c4142',\n",
              " '#f2ab15',\n",
              " '#ac4f06',\n",
              " '#c4fe82',\n",
              " '#2cfa1f',\n",
              " '#9a6200',\n",
              " '#ca9bf7',\n",
              " '#875f42',\n",
              " '#3a2efe',\n",
              " '#fd8d49',\n",
              " '#8b3103',\n",
              " '#cba560',\n",
              " '#698339',\n",
              " '#0cdc73',\n",
              " '#b75203',\n",
              " '#7f8f4e',\n",
              " '#26538d',\n",
              " '#63a950',\n",
              " '#c87f89',\n",
              " '#b1fc99',\n",
              " '#ff9a8a',\n",
              " '#f6688e',\n",
              " '#76fda8',\n",
              " '#53fe5c',\n",
              " '#4efd54',\n",
              " '#a0febf',\n",
              " '#7bf2da',\n",
              " '#bcf5a6',\n",
              " '#ca6b02',\n",
              " '#107ab0',\n",
              " '#2138ab',\n",
              " '#719f91',\n",
              " '#fdb915',\n",
              " '#fefcaf',\n",
              " '#fcf679',\n",
              " '#1d0200',\n",
              " '#cb6843',\n",
              " '#31668a',\n",
              " '#247afd',\n",
              " '#ffffb6',\n",
              " '#90fda9',\n",
              " '#86a17d',\n",
              " '#fddc5c',\n",
              " '#78d1b6',\n",
              " '#13bbaf',\n",
              " '#fb5ffc',\n",
              " '#20f986',\n",
              " '#ffe36e',\n",
              " '#9d0759',\n",
              " '#3a18b1',\n",
              " '#c2ff89',\n",
              " '#d767ad',\n",
              " '#720058',\n",
              " '#ffda03',\n",
              " '#01c08d',\n",
              " '#ac7434',\n",
              " '#014600',\n",
              " '#9900fa',\n",
              " '#02066f',\n",
              " '#8e7618',\n",
              " '#d1768f',\n",
              " '#96b403',\n",
              " '#fdff63',\n",
              " '#95a3a6',\n",
              " '#7f684e',\n",
              " '#751973',\n",
              " '#089404',\n",
              " '#ff6163',\n",
              " '#598556',\n",
              " '#214761',\n",
              " '#3c73a8',\n",
              " '#ba9e88',\n",
              " '#021bf9',\n",
              " '#734a65',\n",
              " '#23c48b',\n",
              " '#8fae22',\n",
              " '#e6f2a2',\n",
              " '#4b57db',\n",
              " '#d90166',\n",
              " '#015482',\n",
              " '#9d0216',\n",
              " '#728f02',\n",
              " '#ffe5ad',\n",
              " '#4e0550',\n",
              " '#f9bc08',\n",
              " '#ff073a',\n",
              " '#c77986',\n",
              " '#d6fffe',\n",
              " '#fe4b03',\n",
              " '#fd5956',\n",
              " '#fce166',\n",
              " '#b2713d',\n",
              " '#1f3b4d',\n",
              " '#699d4c',\n",
              " '#56fca2',\n",
              " '#fb5581',\n",
              " '#3e82fc',\n",
              " '#a0bf16',\n",
              " '#d6fffa',\n",
              " '#4f738e',\n",
              " '#ffb19a',\n",
              " '#5c8b15',\n",
              " '#54ac68',\n",
              " '#89a0b0',\n",
              " '#7ea07a',\n",
              " '#1bfc06',\n",
              " '#cafffb',\n",
              " '#b6ffbb',\n",
              " '#a75e09',\n",
              " '#152eff',\n",
              " '#8d5eb7',\n",
              " '#5f9e8f',\n",
              " '#63f7b4',\n",
              " '#606602',\n",
              " '#fc86aa',\n",
              " '#8c0034',\n",
              " '#758000',\n",
              " '#ab7e4c',\n",
              " '#030764',\n",
              " '#fe86a4',\n",
              " '#d5174e',\n",
              " '#fed0fc',\n",
              " '#680018',\n",
              " '#fedf08',\n",
              " '#fe420f',\n",
              " '#6f7c00',\n",
              " '#ca0147',\n",
              " '#1b2431',\n",
              " '#00fbb0',\n",
              " '#db5856',\n",
              " '#ddd618',\n",
              " '#41fdfe',\n",
              " '#cf524e',\n",
              " '#21c36f',\n",
              " '#a90308',\n",
              " '#6e1005',\n",
              " '#fe828c',\n",
              " '#4b6113',\n",
              " '#4da409',\n",
              " '#beae8a',\n",
              " '#0339f8',\n",
              " '#a88f59',\n",
              " '#5d21d0',\n",
              " '#feb209',\n",
              " '#4e518b',\n",
              " '#964e02',\n",
              " '#85a3b2',\n",
              " '#ff69af',\n",
              " '#c3fbf4',\n",
              " '#2afeb7',\n",
              " '#005f6a',\n",
              " '#0c1793',\n",
              " '#ffff81',\n",
              " '#f0833a',\n",
              " '#f1f33f',\n",
              " '#b1d27b',\n",
              " '#fc824a',\n",
              " '#71aa34',\n",
              " '#b7c9e2',\n",
              " '#4b0101',\n",
              " '#a552e6',\n",
              " '#af2f0d',\n",
              " '#8b88f8',\n",
              " '#9af764',\n",
              " '#a6fbb2',\n",
              " '#ffc512',\n",
              " '#750851',\n",
              " '#c14a09',\n",
              " '#fe2f4a',\n",
              " '#0203e2',\n",
              " '#0a437a',\n",
              " '#a50055',\n",
              " '#ae8b0c',\n",
              " '#fd798f',\n",
              " '#bfac05',\n",
              " '#3eaf76',\n",
              " '#c74767',\n",
              " '#b9484e',\n",
              " '#647d8e',\n",
              " '#bffe28',\n",
              " '#d725de',\n",
              " '#b29705',\n",
              " '#673a3f',\n",
              " '#a87dc2',\n",
              " '#fafe4b',\n",
              " '#c0022f',\n",
              " '#0e87cc',\n",
              " '#8d8468',\n",
              " '#ad03de',\n",
              " '#8cff9e',\n",
              " '#94ac02',\n",
              " '#c4fff7',\n",
              " '#fdee73',\n",
              " '#33b864',\n",
              " '#fff9d0',\n",
              " '#758da3',\n",
              " '#f504c9',\n",
              " '#77a1b5',\n",
              " '#8756e4',\n",
              " '#889717',\n",
              " '#c27e79',\n",
              " '#017371',\n",
              " '#9f8303',\n",
              " '#f7d560',\n",
              " '#bdf6fe',\n",
              " '#75b84f',\n",
              " '#9cbb04',\n",
              " '#29465b',\n",
              " '#696006',\n",
              " '#adf802',\n",
              " '#c1c6fc',\n",
              " '#35ad6b',\n",
              " '#fffd37',\n",
              " '#a442a0',\n",
              " '#f36196',\n",
              " '#947706',\n",
              " '#fff4f2',\n",
              " '#1e9167',\n",
              " '#b5c306',\n",
              " '#feff7f',\n",
              " '#cffdbc',\n",
              " '#0add08',\n",
              " '#87fd05',\n",
              " '#1ef876',\n",
              " '#7bfdc7',\n",
              " '#bcecac',\n",
              " '#bbf90f',\n",
              " '#ab9004',\n",
              " '#1fb57a',\n",
              " '#00555a',\n",
              " '#a484ac',\n",
              " '#c45508',\n",
              " '#3f829d',\n",
              " '#548d44',\n",
              " '#c95efb',\n",
              " '#3ae57f',\n",
              " '#016795',\n",
              " '#87a922',\n",
              " '#f0944d',\n",
              " '#5d1451',\n",
              " '#25ff29',\n",
              " '#d0fe1d',\n",
              " '#ffa62b',\n",
              " '#01b44c',\n",
              " '#ff6cb5',\n",
              " '#6b4247',\n",
              " '#c7c10c',\n",
              " '#b7fffa',\n",
              " '#aeff6e',\n",
              " '#ec2d01',\n",
              " '#76ff7b',\n",
              " '#730039',\n",
              " '#040348',\n",
              " '#df4ec8',\n",
              " '#6ecb3c',\n",
              " '#8f9805',\n",
              " '#5edc1f',\n",
              " '#d94ff5',\n",
              " '#c8fd3d',\n",
              " '#070d0d',\n",
              " '#4984b8',\n",
              " '#51b73b',\n",
              " '#ac7e04',\n",
              " '#4e5481',\n",
              " '#876e4b',\n",
              " '#58bc08',\n",
              " '#2fef10',\n",
              " '#2dfe54',\n",
              " '#0aff02',\n",
              " '#9cef43',\n",
              " '#18d17b',\n",
              " '#35530a',\n",
              " '#1805db',\n",
              " '#6258c4',\n",
              " '#ff964f',\n",
              " '#ffab0f',\n",
              " '#8f8ce7',\n",
              " '#24bca8',\n",
              " '#3f012c',\n",
              " '#cbf85f',\n",
              " '#ff724c',\n",
              " '#280137',\n",
              " '#b36ff6',\n",
              " '#48c072',\n",
              " '#bccb7a',\n",
              " '#a8415b',\n",
              " '#06b1c4',\n",
              " '#cd7584',\n",
              " '#f1da7a',\n",
              " '#ff0490',\n",
              " '#805b87',\n",
              " '#50a747',\n",
              " '#a8a495',\n",
              " '#cfff04',\n",
              " '#ffff7e',\n",
              " '#ff7fa7',\n",
              " '#ef4026',\n",
              " '#3c9992',\n",
              " '#886806',\n",
              " '#04f489',\n",
              " '#fef69e',\n",
              " '#cfaf7b',\n",
              " '#3b719f',\n",
              " '#fdc1c5',\n",
              " '#20c073',\n",
              " '#9b5fc0',\n",
              " '#0f9b8e',\n",
              " '#742802',\n",
              " '#9db92c',\n",
              " '#a4bf20',\n",
              " '#cd5909',\n",
              " '#ada587',\n",
              " '#be013c',\n",
              " '#b8ffeb',\n",
              " '#dc4d01',\n",
              " '#a2653e',\n",
              " '#638b27',\n",
              " '#419c03',\n",
              " '#b1ff65',\n",
              " '#9dbcd4',\n",
              " '#fdfdfe',\n",
              " '#77ab56',\n",
              " '#464196',\n",
              " '#990147',\n",
              " '#befd73',\n",
              " '#32bf84',\n",
              " '#af6f09',\n",
              " '#a0025c',\n",
              " '#ffd8b1',\n",
              " '#7f4e1e',\n",
              " '#bf9b0c',\n",
              " '#6ba353',\n",
              " '#f075e6',\n",
              " '#7bc8f6',\n",
              " '#475f94',\n",
              " '#f5bf03',\n",
              " '#fffeb6',\n",
              " '#fffd74',\n",
              " '#895b7b',\n",
              " '#436bad',\n",
              " '#d0c101',\n",
              " '#c6f808',\n",
              " '#f43605',\n",
              " '#02c14d',\n",
              " '#b25f03',\n",
              " '#2a7e19',\n",
              " '#490648',\n",
              " '#536267',\n",
              " '#5a06ef',\n",
              " '#cf0234',\n",
              " '#c4a661',\n",
              " '#978a84',\n",
              " '#1f0954',\n",
              " '#03012d',\n",
              " '#2bb179',\n",
              " '#c3909b',\n",
              " '#a66fb5',\n",
              " '#770001',\n",
              " '#922b05',\n",
              " '#7d7f7c',\n",
              " '#990f4b',\n",
              " '#8f7303',\n",
              " '#c83cb9',\n",
              " '#fea993',\n",
              " '#acbb0d',\n",
              " '#c071fe',\n",
              " '#ccfd7f',\n",
              " '#00022e',\n",
              " '#828344',\n",
              " '#ffc5cb',\n",
              " '#ab1239',\n",
              " '#b0054b',\n",
              " '#99cc04',\n",
              " '#937c00',\n",
              " '#019529',\n",
              " '#ef1de7',\n",
              " '#000435',\n",
              " '#42b395',\n",
              " '#9d5783',\n",
              " '#c8aca9',\n",
              " '#c87606',\n",
              " '#aa2704',\n",
              " '#e4cbff',\n",
              " '#fa4224',\n",
              " '#0804f9',\n",
              " '#5cb200',\n",
              " '#76424e',\n",
              " '#6c7a0e',\n",
              " '#fbdd7e',\n",
              " '#2a0134',\n",
              " '#044a05',\n",
              " '#fd4659',\n",
              " '#0d75f8',\n",
              " '#fe0002',\n",
              " '#cb9d06',\n",
              " '#fb7d07',\n",
              " '#b9cc81',\n",
              " '#edc8ff',\n",
              " '#61e160',\n",
              " '#8ab8fe',\n",
              " '#920a4e',\n",
              " '#fe02a2',\n",
              " '#9a3001',\n",
              " '#65fe08',\n",
              " '#befdb7',\n",
              " '#b17261',\n",
              " '#885f01',\n",
              " '#02ccfe',\n",
              " '#c1fd95',\n",
              " '#836539',\n",
              " '#fb2943',\n",
              " '#84b701',\n",
              " '#b66325',\n",
              " '#7f5112',\n",
              " '#5fa052',\n",
              " '#6dedfd',\n",
              " '#0bf9ea',\n",
              " '#c760ff',\n",
              " '#ffffcb',\n",
              " '#f6cefc',\n",
              " '#155084',\n",
              " '#f5054f',\n",
              " '#645403',\n",
              " '#7a5901',\n",
              " '#a8b504',\n",
              " '#3d9973',\n",
              " '#000133',\n",
              " '#76a973',\n",
              " '#2e5a88',\n",
              " '#0bf77d',\n",
              " '#bd6c48',\n",
              " '#ac1db8',\n",
              " '#2baf6a',\n",
              " '#26f7fd',\n",
              " '#aefd6c',\n",
              " '#9b8f55',\n",
              " '#ffad01',\n",
              " '#c69c04',\n",
              " '#f4d054',\n",
              " '#de9dac',\n",
              " '#05480d',\n",
              " '#c9ae74',\n",
              " '#60460f',\n",
              " '#98f6b0',\n",
              " '#8af1fe',\n",
              " '#2ee8bb',\n",
              " '#11875d',\n",
              " '#fdb0c0',\n",
              " '#b16002',\n",
              " '#f7022a',\n",
              " '#d5ab09',\n",
              " '#86775f',\n",
              " '#c69f59',\n",
              " '#7a687f',\n",
              " '#042e60',\n",
              " '#c88d94',\n",
              " '#a5fbd5',\n",
              " '#fffe71',\n",
              " '#6241c7',\n",
              " '#fffe40',\n",
              " '#d3494e',\n",
              " '#985e2b',\n",
              " '#a6814c',\n",
              " '#ff08e8',\n",
              " '#9d7651',\n",
              " '#feffca',\n",
              " '#98568d',\n",
              " '#9e003a',\n",
              " '#287c37',\n",
              " '#b96902',\n",
              " '#ba6873',\n",
              " '#ff7855',\n",
              " '#94b21c',\n",
              " '#c5c9c7',\n",
              " '#661aee',\n",
              " '#6140ef',\n",
              " '#9be5aa',\n",
              " '#7b5804',\n",
              " '#276ab3',\n",
              " '#feb308',\n",
              " '#8cfd7e',\n",
              " '#6488ea',\n",
              " '#056eee',\n",
              " '#b27a01',\n",
              " '#0ffef9',\n",
              " '#fa2a55',\n",
              " '#820747',\n",
              " '#7a6a4f',\n",
              " '#f4320c',\n",
              " '#a13905',\n",
              " '#6f828a',\n",
              " '#a55af4',\n",
              " '#ad0afd',\n",
              " '#004577',\n",
              " '#658d6d',\n",
              " '#ca7b80',\n",
              " '#005249',\n",
              " '#2b5d34',\n",
              " '#bff128',\n",
              " '#b59410',\n",
              " '#2976bb',\n",
              " '#014182',\n",
              " '#bb3f3f',\n",
              " '#fc2647',\n",
              " '#a87900',\n",
              " '#82cbb2',\n",
              " '#667c3e',\n",
              " '#fe46a5',\n",
              " '#fe83cc',\n",
              " '#94a617',\n",
              " '#a88905',\n",
              " '#7f5f00',\n",
              " '#9e43a2',\n",
              " '#062e03',\n",
              " '#8a6e45',\n",
              " '#cc7a8b',\n",
              " '#9e0168',\n",
              " '#fdff38',\n",
              " '#c0fa8b',\n",
              " '#eedc5b',\n",
              " '#7ebd01',\n",
              " '#3b5b92',\n",
              " '#01889f',\n",
              " '#3d7afd',\n",
              " '#5f34e7',\n",
              " '#6d5acf',\n",
              " '#748500',\n",
              " '#706c11',\n",
              " '#3c0008',\n",
              " '#cb00f5',\n",
              " '#002d04',\n",
              " '#658cbb',\n",
              " '#749551',\n",
              " '#b9ff66',\n",
              " '#9dc100',\n",
              " '#faee66',\n",
              " '#7efbb3',\n",
              " '#7b002c',\n",
              " '#c292a1',\n",
              " '#017b92',\n",
              " '#fcc006',\n",
              " '#657432',\n",
              " '#d8863b',\n",
              " '#738595',\n",
              " '#aa23ff',\n",
              " '#08ff08',\n",
              " '#9b7a01',\n",
              " '#f29e8e',\n",
              " '#6fc276',\n",
              " '#ff5b00',\n",
              " '#fdff52',\n",
              " '#866f85',\n",
              " '#8ffe09',\n",
              " '#eecffe',\n",
              " '#510ac9',\n",
              " '#4f9153',\n",
              " '#9f2305',\n",
              " '#728639',\n",
              " '#de0c62',\n",
              " '#916e99',\n",
              " '#ffb16d',\n",
              " '#3c4d03',\n",
              " '#7f7053',\n",
              " '#77926f',\n",
              " '#010fcc',\n",
              " '#ceaefa',\n",
              " '#8f99fb',\n",
              " '#c6fcff',\n",
              " '#5539cc',\n",
              " '#544e03',\n",
              " '#017a79',\n",
              " '#01f9c6',\n",
              " '#c9b003',\n",
              " '#929901',\n",
              " '#0b5509',\n",
              " '#a00498',\n",
              " '#2000b1',\n",
              " '#94568c',\n",
              " '#c2be0e',\n",
              " '#748b97',\n",
              " '#665fd1',\n",
              " '#9c6da5',\n",
              " '#c44240',\n",
              " '#a24857',\n",
              " '#825f87',\n",
              " '#c9643b',\n",
              " '#90b134',\n",
              " '#01386a',\n",
              " '#25a36f',\n",
              " '#59656d',\n",
              " '#75fd63',\n",
              " '#21fc0d',\n",
              " '#5a86ad',\n",
              " '#fec615',\n",
              " '#fffd01',\n",
              " '#dfc5fe',\n",
              " '#b26400',\n",
              " '#7f5e00',\n",
              " '#de7e5d',\n",
              " '#048243',\n",
              " '#ffffd4',\n",
              " '#3b638c',\n",
              " '#b79400',\n",
              " '#84597e',\n",
              " '#411900',\n",
              " '#7b0323',\n",
              " '#04d9ff',\n",
              " '#667e2c',\n",
              " '#fbeeac',\n",
              " '#d7fffe',\n",
              " '#4e7496',\n",
              " '#874c62',\n",
              " '#d5ffff',\n",
              " '#826d8c',\n",
              " '#ffbacd',\n",
              " '#d1ffbd',\n",
              " '#448ee4',\n",
              " '#05472a',\n",
              " '#d5869d',\n",
              " '#3d0734',\n",
              " '#4a0100',\n",
              " '#f8481c',\n",
              " '#02590f',\n",
              " '#89a203',\n",
              " '#e03fd8',\n",
              " '#d58a94',\n",
              " '#7bb274',\n",
              " '#526525',\n",
              " '#c94cbe',\n",
              " '#db4bda',\n",
              " '#9e3623',\n",
              " '#b5485d',\n",
              " '#735c12',\n",
              " '#9c6d57',\n",
              " '#028f1e',\n",
              " '#b1916e',\n",
              " '#49759c',\n",
              " '#a0450e',\n",
              " '#39ad48',\n",
              " '#b66a50',\n",
              " '#8cffdb',\n",
              " '#a4be5c',\n",
              " '#cb7723',\n",
              " '#05696b',\n",
              " '#ce5dae',\n",
              " '#c85a53',\n",
              " '#96ae8d',\n",
              " '#1fa774',\n",
              " '#7a9703',\n",
              " '#ac9362',\n",
              " '#01a049',\n",
              " '#d9544d',\n",
              " '#fa5ff7',\n",
              " '#82cafc',\n",
              " '#acfffc',\n",
              " '#fcb001',\n",
              " '#910951',\n",
              " '#fe2c54',\n",
              " '#c875c4',\n",
              " '#cdc50a',\n",
              " '#fd411e',\n",
              " '#9a0200',\n",
              " '#be6400',\n",
              " '#030aa7',\n",
              " '#fe019a',\n",
              " '#f7879a',\n",
              " '#887191',\n",
              " '#b00149',\n",
              " '#12e193',\n",
              " '#fe7b7c',\n",
              " '#ff9408',\n",
              " '#6a6e09',\n",
              " '#8b2e16',\n",
              " '#696112',\n",
              " '#e17701',\n",
              " '#0a481e',\n",
              " '#343837',\n",
              " '#ffb7ce',\n",
              " '#6a79f7',\n",
              " '#5d06e9',\n",
              " '#3d1c02',\n",
              " '#82a67d',\n",
              " '#be0119',\n",
              " '#c9ff27',\n",
              " '#373e02',\n",
              " '#a9561e',\n",
              " '#caa0ff',\n",
              " '#ca6641',\n",
              " '#02d8e9',\n",
              " '#88b378',\n",
              " '#980002',\n",
              " '#cb0162',\n",
              " '#5cac2d',\n",
              " '#769958',\n",
              " '#a2bffe',\n",
              " '#10a674',\n",
              " '#06b48b',\n",
              " '#af884a',\n",
              " '#0b8b87',\n",
              " '#ffa756',\n",
              " '#a2a415',\n",
              " '#154406',\n",
              " '#856798',\n",
              " '#34013f',\n",
              " '#632de9',\n",
              " '#0a888a',\n",
              " '#6f7632',\n",
              " '#d46a7e',\n",
              " '#1e488f',\n",
              " '#bc13fe',\n",
              " '#7ef4cc',\n",
              " '#76cd26',\n",
              " '#74a662',\n",
              " '#80013f',\n",
              " '#b1d1fc',\n",
              " '#ffffe4',\n",
              " '#0652ff',\n",
              " '#045c5a',\n",
              " '#5729ce',\n",
              " '#069af3',\n",
              " '#ff000d',\n",
              " '#f10c45',\n",
              " '#5170d7',\n",
              " '#acbf69',\n",
              " '#6c3461',\n",
              " '#5e819d',\n",
              " '#601ef9',\n",
              " '#b0dd16',\n",
              " '#cdfd02',\n",
              " '#2c6fbb',\n",
              " '#c0737a',\n",
              " '#d6b4fc',\n",
              " '#020035',\n",
              " '#703be7',\n",
              " '#fd3c06',\n",
              " '#960056',\n",
              " '#40a368',\n",
              " '#03719c',\n",
              " '#fc5a50',\n",
              " '#ffffc2',\n",
              " '#7f2b0a',\n",
              " '#b04e0f',\n",
              " '#a03623',\n",
              " '#87ae73',\n",
              " '#789b73',\n",
              " '#ffffff',\n",
              " '#98eff9',\n",
              " '#658b38',\n",
              " '#5a7d9a',\n",
              " '#380835',\n",
              " '#fffe7a',\n",
              " '#5ca904',\n",
              " '#d8dcd6',\n",
              " '#a5a502',\n",
              " '#d648d7',\n",
              " '#047495',\n",
              " '#b790d4',\n",
              " '#5b7c99',\n",
              " '#607c8e',\n",
              " '#0b4008',\n",
              " '#ed0dd9',\n",
              " '#8c000f',\n",
              " '#ffff84',\n",
              " '#bf9005',\n",
              " '#d2bd0a',\n",
              " '#ff474c',\n",
              " '#0485d1',\n",
              " '#ffcfdc',\n",
              " '#040273',\n",
              " '#a83c09',\n",
              " '#90e4c1',\n",
              " '#516572',\n",
              " '#fac205',\n",
              " '#d5b60a',\n",
              " '#363737',\n",
              " '#4b5d16',\n",
              " '#6b8ba4',\n",
              " '#80f9ad',\n",
              " '#a57e52',\n",
              " '#a9f971',\n",
              " '#c65102',\n",
              " '#e2ca76',\n",
              " '#b0ff9d',\n",
              " '#9ffeb0',\n",
              " '#fdaa48',\n",
              " '#fe01b1',\n",
              " '#c1f80a',\n",
              " '#36013f',\n",
              " '#341c02',\n",
              " '#b9a281',\n",
              " '#8eab12',\n",
              " '#9aae07',\n",
              " '#02ab2e',\n",
              " '#7af9ab',\n",
              " '#137e6d',\n",
              " '#aaa662',\n",
              " '#610023',\n",
              " '#014d4e',\n",
              " '#8f1402',\n",
              " '#4b006e',\n",
              " '#580f41',\n",
              " '#8fff9f',\n",
              " '#dbb40c',\n",
              " '#a2cffe',\n",
              " '#c0fb2d',\n",
              " '#be03fd',\n",
              " '#840000',\n",
              " '#d0fefe',\n",
              " '#3f9b0b',\n",
              " '#01153e',\n",
              " '#04d8b2',\n",
              " '#c04e01',\n",
              " '#0cff0c',\n",
              " '#0165fc',\n",
              " '#cf6275',\n",
              " '#ffd1df',\n",
              " '#ceb301',\n",
              " '#380282',\n",
              " '#aaff32',\n",
              " '#53fca1',\n",
              " '#8e82fe',\n",
              " '#cb416b',\n",
              " '#677a04',\n",
              " '#ffb07c',\n",
              " '#c7fdb5',\n",
              " '#ad8150',\n",
              " '#ff028d',\n",
              " '#000000',\n",
              " '#cea2fd',\n",
              " '#001146',\n",
              " '#0504aa',\n",
              " '#e6daa6',\n",
              " '#ff796c',\n",
              " '#6e750e',\n",
              " '#650021',\n",
              " '#01ff07',\n",
              " '#35063e',\n",
              " '#ae7181',\n",
              " '#06470c',\n",
              " '#13eac9',\n",
              " '#00ffff',\n",
              " '#d1b26f',\n",
              " '#00035b',\n",
              " '#c79fef',\n",
              " '#06c2ac',\n",
              " '#033500',\n",
              " '#9a0eea',\n",
              " '#bf77f6',\n",
              " '#89fe05',\n",
              " '#929591',\n",
              " '#75bbfd',\n",
              " '#ffff14',\n",
              " '#c20078',\n",
              " '#96f97b',\n",
              " '#f97306',\n",
              " '#029386',\n",
              " '#95d0fc',\n",
              " '#e50000',\n",
              " '#653700',\n",
              " '#ff81c0',\n",
              " '#0343df',\n",
              " '#15b01a',\n",
              " '#7e1e9c',\n",
              " '#5e9b8a',\n",
              " '#947e94',\n",
              " '#b7e1a1',\n",
              " '#997570',\n",
              " '#6b7c85',\n",
              " '#3c4142',\n",
              " '#719f91',\n",
              " '#86a17d',\n",
              " '#95a3a6',\n",
              " '#1f3b4d',\n",
              " '#89a0b0',\n",
              " '#7ea07a',\n",
              " '#85a3b2',\n",
              " '#b7c9e2',\n",
              " '#647d8e',\n",
              " '#8d8468',\n",
              " '#758da3',\n",
              " '#77a1b5',\n",
              " '#29465b',\n",
              " '#a8a495',\n",
              " '#9dbcd4',\n",
              " '#fdfdfe',\n",
              " '#978a84',\n",
              " '#c3909b',\n",
              " '#7d7f7c',\n",
              " '#c8aca9',\n",
              " '#86775f',\n",
              " '#7a687f',\n",
              " '#c88d94',\n",
              " '#7a6a4f',\n",
              " '#6f828a',\n",
              " '#866f85',\n",
              " '#7f7053',\n",
              " '#77926f',\n",
              " '#748b97',\n",
              " '#59656d',\n",
              " '#826d8c',\n",
              " '#96ae8d',\n",
              " '#887191',\n",
              " '#82a67d',\n",
              " '#5e819d',\n",
              " '#789b73',\n",
              " '#d8dcd6',\n",
              " '#607c8e',\n",
              " '#363737',\n",
              " '#6b8ba4',\n",
              " '#929591',\n",
              " '#F0F8FF',\n",
              " '#FAEBD7',\n",
              " '#00FFFF',\n",
              " '#7FFFD4',\n",
              " ...]"
            ]
          },
          "metadata": {},
          "execution_count": 114
        }
      ]
    },
    {
      "cell_type": "markdown",
      "metadata": {
        "id": "ifxhsvPss5h_"
      },
      "source": [
        "Что вы думаете о виде латентного представления?"
      ]
    }
  ]
}